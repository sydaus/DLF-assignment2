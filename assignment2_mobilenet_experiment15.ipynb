{
 "cells": [
  {
   "cell_type": "code",
   "execution_count": 1,
   "id": "cc03f58a-0c43-4af2-8cdc-b18d174950a1",
   "metadata": {
    "colab": {
     "base_uri": "https://localhost:8080/"
    },
    "executionInfo": {
     "elapsed": 39609,
     "status": "ok",
     "timestamp": 1731012693096,
     "user": {
      "displayName": "George Yang",
      "userId": "04337997738831410077"
     },
     "user_tz": -630
    },
    "id": "cc03f58a-0c43-4af2-8cdc-b18d174950a1",
    "outputId": "dc5d6f0a-f563-4c55-e285-3309821e2e61"
   },
   "outputs": [
    {
     "name": "stdout",
     "output_type": "stream",
     "text": [
      "Mounted at /content/drive\n"
     ]
    }
   ],
   "source": [
    "import torch\n",
    "import torch.nn as nn\n",
    "import torch.optim as optim\n",
    "import torchvision.transforms as transforms\n",
    "import torchvision.datasets as datasets\n",
    "from torchvision import models\n",
    "from torch.utils.data import DataLoader, random_split\n",
    "from tqdm import tqdm\n",
    "import matplotlib.pyplot as plt\n",
    "import os\n",
    "\n",
    "# Set device\n",
    "device = torch.device(\"cuda\" if torch.cuda.is_available() else \"cpu\")\n",
    "\n",
    "from google.colab import drive\n",
    "drive.mount('/content/drive')\n",
    "os.makedirs(\"/content/drive/MyDrive/DLassignment2/models\", exist_ok=True)"
   ]
  },
  {
   "cell_type": "code",
   "execution_count": 8,
   "id": "cbc77ed1-0e10-4aed-b7d8-b0af1528d4be",
   "metadata": {
    "executionInfo": {
     "elapsed": 519,
     "status": "ok",
     "timestamp": 1731016192583,
     "user": {
      "displayName": "George Yang",
      "userId": "04337997738831410077"
     },
     "user_tz": -630
    },
    "id": "cbc77ed1-0e10-4aed-b7d8-b0af1528d4be"
   },
   "outputs": [],
   "source": [
    "# Hyperparameters\n",
    "num_epochs = 100\n",
    "batch_size = 64\n",
    "learning_rate = 0.1\n",
    "#weight_decay_options = [1e-4, 5e-4]\n",
    "weight_decay_options = [5e-4]\n",
    "#optimizers = ['SGD', 'Adam']\n",
    "optimizers = ['Adam']\n",
    "patience = 10\n"
   ]
  },
  {
   "cell_type": "code",
   "execution_count": 3,
   "id": "9f688bf9-e826-44bb-aa58-33ea0e5f5700",
   "metadata": {
    "executionInfo": {
     "elapsed": 724,
     "status": "ok",
     "timestamp": 1731012702191,
     "user": {
      "displayName": "George Yang",
      "userId": "04337997738831410077"
     },
     "user_tz": -630
    },
    "id": "9f688bf9-e826-44bb-aa58-33ea0e5f5700"
   },
   "outputs": [],
   "source": [
    "# Data transforms\n",
    "transform_train = transforms.Compose([\n",
    "    #transforms.Resize((224,224)),\n",
    "    transforms.RandomHorizontalFlip(),\n",
    "    #transforms.RandomCrop(224, padding=4),\n",
    "    transforms.RandomCrop(32, padding=4),\n",
    "    transforms.RandomRotation(15),\n",
    "    transforms.ColorJitter(brightness=0.2, contrast=0.2, saturation=0.2, hue=0.1),\n",
    "    transforms.ToTensor(),\n",
    "    transforms.Normalize((0.4914, 0.4822, 0.4465), (0.247, 0.243, 0.261))\n",
    "])\n",
    "\n",
    "transform_test = transforms.Compose([\n",
    "    #transforms.Resize((224,224)),\n",
    "    transforms.ToTensor(),\n",
    "    transforms.Normalize((0.4914, 0.4822, 0.4465), (0.247, 0.243, 0.261))\n",
    "])\n"
   ]
  },
  {
   "cell_type": "code",
   "execution_count": 4,
   "id": "d4b85ca9-52e0-42ae-b555-f64a351abde5",
   "metadata": {
    "colab": {
     "base_uri": "https://localhost:8080/"
    },
    "executionInfo": {
     "elapsed": 18687,
     "status": "ok",
     "timestamp": 1731012724614,
     "user": {
      "displayName": "George Yang",
      "userId": "04337997738831410077"
     },
     "user_tz": -630
    },
    "id": "d4b85ca9-52e0-42ae-b555-f64a351abde5",
    "outputId": "29f571a5-d122-4cda-84bc-11e8c49534cd"
   },
   "outputs": [
    {
     "name": "stdout",
     "output_type": "stream",
     "text": [
      "Downloading https://www.cs.toronto.edu/~kriz/cifar-10-python.tar.gz to /content/data/cifar-10-python.tar.gz\n"
     ]
    },
    {
     "name": "stderr",
     "output_type": "stream",
     "text": [
      "100%|██████████| 170M/170M [00:13<00:00, 13.1MB/s]\n"
     ]
    },
    {
     "name": "stdout",
     "output_type": "stream",
     "text": [
      "Extracting /content/data/cifar-10-python.tar.gz to /content/data\n",
      "Files already downloaded and verified\n"
     ]
    }
   ],
   "source": [
    "# Load dataset and split into train, val, and test sets\n",
    "train_dataset = datasets.CIFAR10(root='/content/data', train=True, transform=transform_train, download=True)\n",
    "test_dataset = datasets.CIFAR10(root='/content/data', train=False, transform=transform_test, download=True)\n",
    "\n",
    "seed_value = 42\n",
    "torch.manual_seed(seed_value)\n",
    "train_size = int(0.8 * len(train_dataset))\n",
    "val_size = len(train_dataset) - train_size\n",
    "train_data, val_data = random_split(train_dataset, [train_size, val_size])\n",
    "\n",
    "train_loader = DataLoader(train_data, batch_size=batch_size, shuffle=True)\n",
    "val_loader = DataLoader(val_data, batch_size=batch_size, shuffle=False)\n",
    "\n",
    "test_loader = DataLoader(test_dataset, batch_size=batch_size, shuffle=False)"
   ]
  },
  {
   "cell_type": "code",
   "execution_count": null,
   "id": "XQMT8Kj4jzDT",
   "metadata": {
    "colab": {
     "base_uri": "https://localhost:8080/"
    },
    "executionInfo": {
     "elapsed": 365,
     "status": "ok",
     "timestamp": 1730880380653,
     "user": {
      "displayName": "George Yang",
      "userId": "04337997738831410077"
     },
     "user_tz": -630
    },
    "id": "XQMT8Kj4jzDT",
    "outputId": "f415d0f9-fc5c-49c6-cdec-6527c981b85d"
   },
   "outputs": [
    {
     "name": "stdout",
     "output_type": "stream",
     "text": [
      "torch.Size([64, 3, 32, 32])\n"
     ]
    }
   ],
   "source": [
    "for data, _ in train_loader:\n",
    "    print(data.shape)\n",
    "    break"
   ]
  },
  {
   "cell_type": "code",
   "execution_count": 5,
   "id": "4705c57f-a7f0-46b3-acab-4ac1ffc91e51",
   "metadata": {
    "executionInfo": {
     "elapsed": 570,
     "status": "ok",
     "timestamp": 1731012728153,
     "user": {
      "displayName": "George Yang",
      "userId": "04337997738831410077"
     },
     "user_tz": -630
    },
    "id": "4705c57f-a7f0-46b3-acab-4ac1ffc91e51"
   },
   "outputs": [],
   "source": [
    "\n",
    "# Function to plot training and validation metrics\n",
    "def plot_metrics(train_losses, val_losses, train_accuracies, val_accuracies):\n",
    "    epochs = range(1, len(train_losses) + 1)\n",
    "\n",
    "    # Plot loss\n",
    "    plt.figure(figsize=(12, 5))\n",
    "    plt.subplot(1, 2, 1)\n",
    "    plt.plot(epochs, train_losses, label='Train Loss')\n",
    "    plt.plot(epochs, val_losses, label='Validation Loss')\n",
    "    plt.xlabel('Epoch')\n",
    "    plt.ylabel('Loss')\n",
    "    plt.title('Training and Validation Loss')\n",
    "    plt.legend()\n",
    "\n",
    "    # Plot accuracy\n",
    "    plt.subplot(1, 2, 2)\n",
    "    plt.plot(epochs, train_accuracies, label='Train Accuracy')\n",
    "    plt.plot(epochs, val_accuracies, label='Validation Accuracy')\n",
    "    plt.xlabel('Epoch')\n",
    "    plt.ylabel('Accuracy')\n",
    "    plt.title('Training and Validation Accuracy')\n",
    "    plt.legend()\n",
    "\n",
    "    plt.show()\n",
    "\n",
    "# Training function\n",
    "def train_model(model, optimizer, criterion, train_loader, val_loader, num_epochs, scheduler=None):\n",
    "    model.to(device)\n",
    "    best_val_loss = float('inf')\n",
    "    epochs_without_improvement = 0\n",
    "\n",
    "    # Load checkpoint if available\n",
    "    checkpoint_path = '/content/drive/MyDrive/DLassignment2/models/mobilenet_best.pth'\n",
    "    start_epoch = 50\n",
    "    if os.path.isfile(checkpoint_path):\n",
    "        print(\"Loading checkpoint...\")\n",
    "        model.load_state_dict(torch.load(checkpoint_path))\n",
    "\n",
    "    # Lists to store training/validation loss and accuracy for each epoch\n",
    "    train_losses = []\n",
    "    val_losses = []\n",
    "    train_accuracies = []\n",
    "    val_accuracies = []\n",
    "\n",
    "    for epoch in range(start_epoch, num_epochs):\n",
    "        # Training phase\n",
    "        model.train()\n",
    "        train_loss = 0\n",
    "        correct = 0\n",
    "        total = 0\n",
    "        for batch_idx, (data, targets) in enumerate(tqdm(train_loader)):\n",
    "            data, targets = data.to(device), targets.to(device)\n",
    "\n",
    "            # Forward pass\n",
    "            outputs = model(data)\n",
    "            loss = criterion(outputs, targets)\n",
    "            train_loss += loss.item()\n",
    "\n",
    "            # Backward pass and optimize\n",
    "            optimizer.zero_grad()\n",
    "            loss.backward()\n",
    "            optimizer.step()\n",
    "\n",
    "            # Calculate accuracy\n",
    "            _, predicted = outputs.max(1)\n",
    "            total += targets.size(0)\n",
    "            correct += predicted.eq(targets).sum().item()\n",
    "\n",
    "        train_accuracy = 100. * correct / total\n",
    "        train_losses.append(train_loss / len(train_loader))\n",
    "        train_accuracies.append(train_accuracy)\n",
    "\n",
    "        # Validation phase\n",
    "        model.eval()\n",
    "        val_loss = 0\n",
    "        correct = 0\n",
    "        total = 0\n",
    "        with torch.no_grad():\n",
    "            for batch_idx, (data, targets) in enumerate(val_loader):\n",
    "                data, targets = data.to(device), targets.to(device)\n",
    "                outputs = model(data)\n",
    "                loss = criterion(outputs, targets)\n",
    "                val_loss += loss.item()\n",
    "\n",
    "                _, predicted = outputs.max(1)\n",
    "                total += targets.size(0)\n",
    "                correct += predicted.eq(targets).sum().item()\n",
    "\n",
    "        val_loss /= len(val_loader)\n",
    "        val_accuracy = 100. * correct / total\n",
    "        val_losses.append(val_loss)\n",
    "        val_accuracies.append(val_accuracy)\n",
    "\n",
    "        # Check for improvement & save the model\n",
    "        if val_loss < best_val_loss:\n",
    "            best_val_loss = val_loss\n",
    "            epochs_without_improvement = 0\n",
    "            torch.save(model.state_dict(), '/content/drive/MyDrive/DLassignment2/models/mobilenet_best.pth')\n",
    "            print(f\"New best model saved at epoch {epoch+1} with validation loss {val_loss:.4f}\")\n",
    "        else:\n",
    "            epochs_without_improvement += 1\n",
    "\n",
    "        # Early stopping condition\n",
    "        if epochs_without_improvement >= patience:\n",
    "            print(f\"Early stopping at epoch {epoch+1} with best validation loss {best_val_loss:.4f}\")\n",
    "            break\n",
    "\n",
    "        print(f'Epoch [{epoch+1}/{num_epochs}], Train Loss: {train_losses[-1]:.4f}, '\n",
    "              f'Train Acc: {train_accuracies[-1]:.2f}, Val Loss: {val_losses[-1]:.4f}, '\n",
    "              f'Val Acc: {val_accuracies[-1]:.2f}')\n",
    "\n",
    "\n",
    "        # Step the scheduler\n",
    "        if scheduler:\n",
    "            scheduler.step()\n",
    "\n",
    "    # Plotting the training and validation metrics\n",
    "    plot_metrics(train_losses, val_losses, train_accuracies, val_accuracies)\n",
    "    print(f\"train_loss: {train_losses}\")\n",
    "    print(f\"val_loss: {val_losses}\")\n",
    "    print(f\"train_acc: {train_accuracies}\")\n",
    "    print(f\"val_acc: {val_accuracies}\")\n",
    "\n",
    "\n",
    "\n"
   ]
  },
  {
   "cell_type": "code",
   "execution_count": 10,
   "id": "424b2a50-db2e-4f64-93f8-a88275f2d15d",
   "metadata": {
    "colab": {
     "base_uri": "https://localhost:8080/",
     "height": 1000
    },
    "executionInfo": {
     "elapsed": 3143724,
     "status": "ok",
     "timestamp": 1731019591290,
     "user": {
      "displayName": "George Yang",
      "userId": "04337997738831410077"
     },
     "user_tz": -630
    },
    "id": "424b2a50-db2e-4f64-93f8-a88275f2d15d",
    "outputId": "d764a1ea-ede0-43ed-8818-14238750b7f9"
   },
   "outputs": [
    {
     "name": "stdout",
     "output_type": "stream",
     "text": [
      "\n",
      "Training model with Adam optimizer and weight decay 0.0005\n",
      "Loading checkpoint...\n"
     ]
    },
    {
     "name": "stderr",
     "output_type": "stream",
     "text": [
      "<ipython-input-5-36ba5d16e07b>:37: FutureWarning: You are using `torch.load` with `weights_only=False` (the current default value), which uses the default pickle module implicitly. It is possible to construct malicious pickle data which will execute arbitrary code during unpickling (See https://github.com/pytorch/pytorch/blob/main/SECURITY.md#untrusted-models for more details). In a future release, the default value for `weights_only` will be flipped to `True`. This limits the functions that could be executed during unpickling. Arbitrary objects will no longer be allowed to be loaded via this mode unless they are explicitly allowlisted by the user via `torch.serialization.add_safe_globals`. We recommend you start setting `weights_only=True` for any use case where you don't have full control of the loaded file. Please open an issue on GitHub for any issues related to this experimental feature.\n",
      "  model.load_state_dict(torch.load(checkpoint_path))\n",
      "100%|██████████| 625/625 [00:58<00:00, 10.71it/s]\n"
     ]
    },
    {
     "name": "stdout",
     "output_type": "stream",
     "text": [
      "New best model saved at epoch 51 with validation loss 1.0806\n",
      "Epoch [51/100], Train Loss: 1.0513, Train Acc: 62.82, Val Loss: 1.0806, Val Acc: 61.04\n"
     ]
    },
    {
     "name": "stderr",
     "output_type": "stream",
     "text": [
      "100%|██████████| 625/625 [00:56<00:00, 11.07it/s]\n"
     ]
    },
    {
     "name": "stdout",
     "output_type": "stream",
     "text": [
      "New best model saved at epoch 52 with validation loss 1.0392\n",
      "Epoch [52/100], Train Loss: 1.0475, Train Acc: 62.99, Val Loss: 1.0392, Val Acc: 62.73\n"
     ]
    },
    {
     "name": "stderr",
     "output_type": "stream",
     "text": [
      "100%|██████████| 625/625 [00:56<00:00, 11.08it/s]\n"
     ]
    },
    {
     "name": "stdout",
     "output_type": "stream",
     "text": [
      "Epoch [53/100], Train Loss: 1.0401, Train Acc: 63.20, Val Loss: 1.0476, Val Acc: 62.90\n"
     ]
    },
    {
     "name": "stderr",
     "output_type": "stream",
     "text": [
      "100%|██████████| 625/625 [00:56<00:00, 11.07it/s]\n"
     ]
    },
    {
     "name": "stdout",
     "output_type": "stream",
     "text": [
      "Epoch [54/100], Train Loss: 1.0438, Train Acc: 63.32, Val Loss: 1.0480, Val Acc: 63.36\n"
     ]
    },
    {
     "name": "stderr",
     "output_type": "stream",
     "text": [
      "100%|██████████| 625/625 [00:56<00:00, 10.98it/s]\n"
     ]
    },
    {
     "name": "stdout",
     "output_type": "stream",
     "text": [
      "Epoch [55/100], Train Loss: 1.0364, Train Acc: 63.38, Val Loss: 1.0441, Val Acc: 63.12\n"
     ]
    },
    {
     "name": "stderr",
     "output_type": "stream",
     "text": [
      "100%|██████████| 625/625 [00:57<00:00, 10.88it/s]\n"
     ]
    },
    {
     "name": "stdout",
     "output_type": "stream",
     "text": [
      "New best model saved at epoch 56 with validation loss 1.0151\n",
      "Epoch [56/100], Train Loss: 1.0369, Train Acc: 63.38, Val Loss: 1.0151, Val Acc: 63.99\n"
     ]
    },
    {
     "name": "stderr",
     "output_type": "stream",
     "text": [
      "100%|██████████| 625/625 [00:57<00:00, 10.92it/s]\n"
     ]
    },
    {
     "name": "stdout",
     "output_type": "stream",
     "text": [
      "Epoch [57/100], Train Loss: 1.0286, Train Acc: 63.55, Val Loss: 1.0209, Val Acc: 63.26\n"
     ]
    },
    {
     "name": "stderr",
     "output_type": "stream",
     "text": [
      "100%|██████████| 625/625 [00:56<00:00, 11.04it/s]\n"
     ]
    },
    {
     "name": "stdout",
     "output_type": "stream",
     "text": [
      "Epoch [58/100], Train Loss: 1.0270, Train Acc: 63.70, Val Loss: 1.0387, Val Acc: 62.98\n"
     ]
    },
    {
     "name": "stderr",
     "output_type": "stream",
     "text": [
      "100%|██████████| 625/625 [00:56<00:00, 11.06it/s]\n"
     ]
    },
    {
     "name": "stdout",
     "output_type": "stream",
     "text": [
      "Epoch [59/100], Train Loss: 1.0291, Train Acc: 63.39, Val Loss: 1.0333, Val Acc: 62.90\n"
     ]
    },
    {
     "name": "stderr",
     "output_type": "stream",
     "text": [
      "100%|██████████| 625/625 [00:57<00:00, 10.94it/s]\n"
     ]
    },
    {
     "name": "stdout",
     "output_type": "stream",
     "text": [
      "Epoch [60/100], Train Loss: 1.0249, Train Acc: 63.94, Val Loss: 1.0217, Val Acc: 63.44\n"
     ]
    },
    {
     "name": "stderr",
     "output_type": "stream",
     "text": [
      "100%|██████████| 625/625 [00:57<00:00, 10.78it/s]\n"
     ]
    },
    {
     "name": "stdout",
     "output_type": "stream",
     "text": [
      "Epoch [61/100], Train Loss: 1.0257, Train Acc: 63.82, Val Loss: 1.0175, Val Acc: 63.95\n"
     ]
    },
    {
     "name": "stderr",
     "output_type": "stream",
     "text": [
      "100%|██████████| 625/625 [00:58<00:00, 10.66it/s]\n"
     ]
    },
    {
     "name": "stdout",
     "output_type": "stream",
     "text": [
      "New best model saved at epoch 62 with validation loss 1.0092\n",
      "Epoch [62/100], Train Loss: 1.0147, Train Acc: 64.29, Val Loss: 1.0092, Val Acc: 64.31\n"
     ]
    },
    {
     "name": "stderr",
     "output_type": "stream",
     "text": [
      "100%|██████████| 625/625 [00:57<00:00, 10.79it/s]\n"
     ]
    },
    {
     "name": "stdout",
     "output_type": "stream",
     "text": [
      "Epoch [63/100], Train Loss: 1.0098, Train Acc: 64.28, Val Loss: 1.0133, Val Acc: 64.55\n"
     ]
    },
    {
     "name": "stderr",
     "output_type": "stream",
     "text": [
      "100%|██████████| 625/625 [00:57<00:00, 10.90it/s]\n"
     ]
    },
    {
     "name": "stdout",
     "output_type": "stream",
     "text": [
      "New best model saved at epoch 64 with validation loss 0.9997\n",
      "Epoch [64/100], Train Loss: 1.0113, Train Acc: 64.34, Val Loss: 0.9997, Val Acc: 64.24\n"
     ]
    },
    {
     "name": "stderr",
     "output_type": "stream",
     "text": [
      "100%|██████████| 625/625 [00:56<00:00, 11.05it/s]\n"
     ]
    },
    {
     "name": "stdout",
     "output_type": "stream",
     "text": [
      "Epoch [65/100], Train Loss: 1.0071, Train Acc: 64.50, Val Loss: 1.0184, Val Acc: 63.95\n"
     ]
    },
    {
     "name": "stderr",
     "output_type": "stream",
     "text": [
      "100%|██████████| 625/625 [00:56<00:00, 11.09it/s]\n"
     ]
    },
    {
     "name": "stdout",
     "output_type": "stream",
     "text": [
      "New best model saved at epoch 66 with validation loss 0.9973\n",
      "Epoch [66/100], Train Loss: 0.9945, Train Acc: 65.08, Val Loss: 0.9973, Val Acc: 64.45\n"
     ]
    },
    {
     "name": "stderr",
     "output_type": "stream",
     "text": [
      "100%|██████████| 625/625 [00:56<00:00, 11.05it/s]\n"
     ]
    },
    {
     "name": "stdout",
     "output_type": "stream",
     "text": [
      "New best model saved at epoch 67 with validation loss 0.9959\n",
      "Epoch [67/100], Train Loss: 0.9970, Train Acc: 64.83, Val Loss: 0.9959, Val Acc: 64.36\n"
     ]
    },
    {
     "name": "stderr",
     "output_type": "stream",
     "text": [
      "100%|██████████| 625/625 [00:56<00:00, 11.02it/s]\n"
     ]
    },
    {
     "name": "stdout",
     "output_type": "stream",
     "text": [
      "New best model saved at epoch 68 with validation loss 0.9955\n",
      "Epoch [68/100], Train Loss: 1.0011, Train Acc: 64.82, Val Loss: 0.9955, Val Acc: 64.56\n"
     ]
    },
    {
     "name": "stderr",
     "output_type": "stream",
     "text": [
      "100%|██████████| 625/625 [00:57<00:00, 10.78it/s]\n"
     ]
    },
    {
     "name": "stdout",
     "output_type": "stream",
     "text": [
      "Epoch [69/100], Train Loss: 0.9971, Train Acc: 64.87, Val Loss: 0.9962, Val Acc: 64.89\n"
     ]
    },
    {
     "name": "stderr",
     "output_type": "stream",
     "text": [
      "100%|██████████| 625/625 [00:56<00:00, 11.00it/s]\n"
     ]
    },
    {
     "name": "stdout",
     "output_type": "stream",
     "text": [
      "New best model saved at epoch 70 with validation loss 0.9948\n",
      "Epoch [70/100], Train Loss: 0.9853, Train Acc: 65.35, Val Loss: 0.9948, Val Acc: 64.54\n"
     ]
    },
    {
     "name": "stderr",
     "output_type": "stream",
     "text": [
      "100%|██████████| 625/625 [00:56<00:00, 10.99it/s]\n"
     ]
    },
    {
     "name": "stdout",
     "output_type": "stream",
     "text": [
      "New best model saved at epoch 71 with validation loss 0.9911\n",
      "Epoch [71/100], Train Loss: 0.9862, Train Acc: 65.37, Val Loss: 0.9911, Val Acc: 64.93\n"
     ]
    },
    {
     "name": "stderr",
     "output_type": "stream",
     "text": [
      "100%|██████████| 625/625 [00:56<00:00, 11.12it/s]\n"
     ]
    },
    {
     "name": "stdout",
     "output_type": "stream",
     "text": [
      "New best model saved at epoch 72 with validation loss 0.9830\n",
      "Epoch [72/100], Train Loss: 0.9853, Train Acc: 65.02, Val Loss: 0.9830, Val Acc: 64.92\n"
     ]
    },
    {
     "name": "stderr",
     "output_type": "stream",
     "text": [
      "100%|██████████| 625/625 [00:56<00:00, 11.12it/s]\n"
     ]
    },
    {
     "name": "stdout",
     "output_type": "stream",
     "text": [
      "New best model saved at epoch 73 with validation loss 0.9770\n",
      "Epoch [73/100], Train Loss: 0.9859, Train Acc: 65.47, Val Loss: 0.9770, Val Acc: 65.37\n"
     ]
    },
    {
     "name": "stderr",
     "output_type": "stream",
     "text": [
      "100%|██████████| 625/625 [00:56<00:00, 11.12it/s]\n"
     ]
    },
    {
     "name": "stdout",
     "output_type": "stream",
     "text": [
      "New best model saved at epoch 74 with validation loss 0.9713\n",
      "Epoch [74/100], Train Loss: 0.9853, Train Acc: 65.38, Val Loss: 0.9713, Val Acc: 65.63\n"
     ]
    },
    {
     "name": "stderr",
     "output_type": "stream",
     "text": [
      "100%|██████████| 625/625 [00:56<00:00, 11.14it/s]\n"
     ]
    },
    {
     "name": "stdout",
     "output_type": "stream",
     "text": [
      "New best model saved at epoch 75 with validation loss 0.9686\n",
      "Epoch [75/100], Train Loss: 0.9771, Train Acc: 65.72, Val Loss: 0.9686, Val Acc: 66.09\n"
     ]
    },
    {
     "name": "stderr",
     "output_type": "stream",
     "text": [
      "100%|██████████| 625/625 [00:55<00:00, 11.19it/s]\n"
     ]
    },
    {
     "name": "stdout",
     "output_type": "stream",
     "text": [
      "Epoch [76/100], Train Loss: 0.9702, Train Acc: 65.89, Val Loss: 0.9745, Val Acc: 65.91\n"
     ]
    },
    {
     "name": "stderr",
     "output_type": "stream",
     "text": [
      "100%|██████████| 625/625 [00:56<00:00, 11.16it/s]\n"
     ]
    },
    {
     "name": "stdout",
     "output_type": "stream",
     "text": [
      "New best model saved at epoch 77 with validation loss 0.9598\n",
      "Epoch [77/100], Train Loss: 0.9689, Train Acc: 65.75, Val Loss: 0.9598, Val Acc: 66.17\n"
     ]
    },
    {
     "name": "stderr",
     "output_type": "stream",
     "text": [
      "100%|██████████| 625/625 [00:56<00:00, 11.08it/s]\n"
     ]
    },
    {
     "name": "stdout",
     "output_type": "stream",
     "text": [
      "Epoch [78/100], Train Loss: 0.9702, Train Acc: 65.74, Val Loss: 0.9684, Val Acc: 65.76\n"
     ]
    },
    {
     "name": "stderr",
     "output_type": "stream",
     "text": [
      "100%|██████████| 625/625 [00:56<00:00, 11.01it/s]\n"
     ]
    },
    {
     "name": "stdout",
     "output_type": "stream",
     "text": [
      "Epoch [79/100], Train Loss: 0.9674, Train Acc: 65.84, Val Loss: 0.9629, Val Acc: 65.85\n"
     ]
    },
    {
     "name": "stderr",
     "output_type": "stream",
     "text": [
      "100%|██████████| 625/625 [00:57<00:00, 10.96it/s]\n"
     ]
    },
    {
     "name": "stdout",
     "output_type": "stream",
     "text": [
      "Epoch [80/100], Train Loss: 0.9663, Train Acc: 66.16, Val Loss: 0.9665, Val Acc: 65.90\n"
     ]
    },
    {
     "name": "stderr",
     "output_type": "stream",
     "text": [
      "100%|██████████| 625/625 [00:56<00:00, 10.99it/s]\n"
     ]
    },
    {
     "name": "stdout",
     "output_type": "stream",
     "text": [
      "Epoch [81/100], Train Loss: 0.9589, Train Acc: 66.30, Val Loss: 0.9647, Val Acc: 65.88\n"
     ]
    },
    {
     "name": "stderr",
     "output_type": "stream",
     "text": [
      "100%|██████████| 625/625 [00:56<00:00, 11.04it/s]\n"
     ]
    },
    {
     "name": "stdout",
     "output_type": "stream",
     "text": [
      "New best model saved at epoch 82 with validation loss 0.9567\n",
      "Epoch [82/100], Train Loss: 0.9590, Train Acc: 66.24, Val Loss: 0.9567, Val Acc: 65.64\n"
     ]
    },
    {
     "name": "stderr",
     "output_type": "stream",
     "text": [
      "100%|██████████| 625/625 [00:56<00:00, 11.08it/s]\n"
     ]
    },
    {
     "name": "stdout",
     "output_type": "stream",
     "text": [
      "New best model saved at epoch 83 with validation loss 0.9495\n",
      "Epoch [83/100], Train Loss: 0.9633, Train Acc: 66.12, Val Loss: 0.9495, Val Acc: 66.51\n"
     ]
    },
    {
     "name": "stderr",
     "output_type": "stream",
     "text": [
      "100%|██████████| 625/625 [00:56<00:00, 11.08it/s]\n"
     ]
    },
    {
     "name": "stdout",
     "output_type": "stream",
     "text": [
      "Epoch [84/100], Train Loss: 0.9546, Train Acc: 66.46, Val Loss: 0.9571, Val Acc: 66.03\n"
     ]
    },
    {
     "name": "stderr",
     "output_type": "stream",
     "text": [
      "100%|██████████| 625/625 [00:56<00:00, 11.05it/s]\n"
     ]
    },
    {
     "name": "stdout",
     "output_type": "stream",
     "text": [
      "Epoch [85/100], Train Loss: 0.9526, Train Acc: 66.22, Val Loss: 0.9551, Val Acc: 66.33\n"
     ]
    },
    {
     "name": "stderr",
     "output_type": "stream",
     "text": [
      "100%|██████████| 625/625 [00:56<00:00, 10.99it/s]\n"
     ]
    },
    {
     "name": "stdout",
     "output_type": "stream",
     "text": [
      "New best model saved at epoch 86 with validation loss 0.9372\n",
      "Epoch [86/100], Train Loss: 0.9508, Train Acc: 66.68, Val Loss: 0.9372, Val Acc: 66.68\n"
     ]
    },
    {
     "name": "stderr",
     "output_type": "stream",
     "text": [
      "100%|██████████| 625/625 [00:56<00:00, 11.14it/s]\n"
     ]
    },
    {
     "name": "stdout",
     "output_type": "stream",
     "text": [
      "Epoch [87/100], Train Loss: 0.9499, Train Acc: 66.65, Val Loss: 0.9434, Val Acc: 66.18\n"
     ]
    },
    {
     "name": "stderr",
     "output_type": "stream",
     "text": [
      "100%|██████████| 625/625 [00:56<00:00, 11.15it/s]\n"
     ]
    },
    {
     "name": "stdout",
     "output_type": "stream",
     "text": [
      "Epoch [88/100], Train Loss: 0.9537, Train Acc: 66.34, Val Loss: 0.9485, Val Acc: 66.52\n"
     ]
    },
    {
     "name": "stderr",
     "output_type": "stream",
     "text": [
      "100%|██████████| 625/625 [00:57<00:00, 10.85it/s]\n"
     ]
    },
    {
     "name": "stdout",
     "output_type": "stream",
     "text": [
      "Epoch [89/100], Train Loss: 0.9481, Train Acc: 66.64, Val Loss: 0.9495, Val Acc: 66.40\n"
     ]
    },
    {
     "name": "stderr",
     "output_type": "stream",
     "text": [
      "100%|██████████| 625/625 [00:58<00:00, 10.66it/s]\n"
     ]
    },
    {
     "name": "stdout",
     "output_type": "stream",
     "text": [
      "Epoch [90/100], Train Loss: 0.9487, Train Acc: 66.81, Val Loss: 0.9484, Val Acc: 66.88\n"
     ]
    },
    {
     "name": "stderr",
     "output_type": "stream",
     "text": [
      "100%|██████████| 625/625 [00:56<00:00, 11.00it/s]\n"
     ]
    },
    {
     "name": "stdout",
     "output_type": "stream",
     "text": [
      "Epoch [91/100], Train Loss: 0.9454, Train Acc: 66.65, Val Loss: 0.9470, Val Acc: 66.38\n"
     ]
    },
    {
     "name": "stderr",
     "output_type": "stream",
     "text": [
      "100%|██████████| 625/625 [00:57<00:00, 10.89it/s]\n"
     ]
    },
    {
     "name": "stdout",
     "output_type": "stream",
     "text": [
      "Epoch [92/100], Train Loss: 0.9458, Train Acc: 66.81, Val Loss: 0.9539, Val Acc: 66.77\n"
     ]
    },
    {
     "name": "stderr",
     "output_type": "stream",
     "text": [
      "100%|██████████| 625/625 [00:57<00:00, 10.89it/s]\n"
     ]
    },
    {
     "name": "stdout",
     "output_type": "stream",
     "text": [
      "Epoch [93/100], Train Loss: 0.9402, Train Acc: 66.97, Val Loss: 0.9428, Val Acc: 66.30\n"
     ]
    },
    {
     "name": "stderr",
     "output_type": "stream",
     "text": [
      "100%|██████████| 625/625 [00:57<00:00, 10.84it/s]\n"
     ]
    },
    {
     "name": "stdout",
     "output_type": "stream",
     "text": [
      "Epoch [94/100], Train Loss: 0.9401, Train Acc: 67.05, Val Loss: 0.9409, Val Acc: 66.84\n"
     ]
    },
    {
     "name": "stderr",
     "output_type": "stream",
     "text": [
      "100%|██████████| 625/625 [00:58<00:00, 10.74it/s]\n"
     ]
    },
    {
     "name": "stdout",
     "output_type": "stream",
     "text": [
      "Epoch [95/100], Train Loss: 0.9380, Train Acc: 67.10, Val Loss: 0.9465, Val Acc: 66.04\n"
     ]
    },
    {
     "name": "stderr",
     "output_type": "stream",
     "text": [
      "100%|██████████| 625/625 [00:57<00:00, 10.81it/s]\n"
     ]
    },
    {
     "name": "stdout",
     "output_type": "stream",
     "text": [
      "Early stopping at epoch 96 with best validation loss 0.9372\n"
     ]
    },
    {
     "data": {
      "image/png": "[encoded data removed]",
      "text/plain": [
       "<Figure size 1200x500 with 2 Axes>"
      ]
     },
     "metadata": {},
     "output_type": "display_data"
    },
    {
     "name": "stdout",
     "output_type": "stream",
     "text": [
      "train_loss: [1.0512654339790344, 1.0475368996620178, 1.0401265248298646, 1.0438257891654967, 1.0364040996551513, 1.036892327594757, 1.0286025152206422, 1.0270137283325196, 1.029113743877411, 1.0248709761619568, 1.0257029200553893, 1.0147139811515808, 1.0097884661674499, 1.011268239402771, 1.0071424512863159, 0.9944770536422729, 0.9970300119400024, 1.0011383959770204, 0.9970583190917969, 0.9853036236763001, 0.98615442237854, 0.9853135605812072, 0.9859323874473572, 0.9852685119628907, 0.9771467797279358, 0.9701896673202515, 0.9688736194610595, 0.9701808411598205, 0.9674435909271241, 0.9662602400779724, 0.9589210807800292, 0.9589948254585267, 0.9632823146820069, 0.9545660217285157, 0.9525877274513245, 0.9507682553291321, 0.9499223588943482, 0.9536980585098267, 0.9481048850059509, 0.948748981666565, 0.9454320877075195, 0.9458488456726074, 0.9401708684921265, 0.9400688654899597, 0.9380097591400146, 0.9345424199104309]\n",
      "val_loss: [1.080600917339325, 1.0391528758273763, 1.0475500222224339, 1.047957702047506, 1.0440927990682565, 1.015123766698655, 1.020944232773629, 1.038723275160334, 1.033323817951664, 1.0216518955625546, 1.0174740264370183, 1.0091570289271652, 1.0133132019620033, 0.9996535250335742, 1.018402246532926, 0.9972832950816792, 0.9958548124428768, 0.9954990714218965, 0.9962281094994515, 0.9947699054031615, 0.9911330543505917, 0.9829700167771358, 0.9770046476345913, 0.9713011163814812, 0.9686315651911839, 0.9745125015070484, 0.9597995273626534, 0.9683850415193351, 0.9628907248472712, 0.966466278027577, 0.9647103153216611, 0.9566674114792211, 0.9495096647056045, 0.9570586377648032, 0.9551336176835807, 0.937196067564047, 0.9434169018344515, 0.9485389043571083, 0.9495287951390454, 0.9484216663867805, 0.9469767858268349, 0.9539427415580507, 0.9427833576111277, 0.940933625789205, 0.9464684755179533, 0.9442367747331121]\n",
      "train_acc: [62.82, 62.99, 63.2025, 63.32, 63.385, 63.38, 63.5475, 63.695, 63.3925, 63.9375, 63.82, 64.29, 64.285, 64.3375, 64.4975, 65.085, 64.825, 64.8175, 64.8675, 65.35, 65.3725, 65.0225, 65.465, 65.3775, 65.715, 65.895, 65.755, 65.7425, 65.845, 66.1575, 66.295, 66.2375, 66.125, 66.4625, 66.2225, 66.68, 66.65, 66.34, 66.64, 66.81, 66.6475, 66.8125, 66.9675, 67.045, 67.1025, 67.2225]\n",
      "val_acc: [61.04, 62.73, 62.9, 63.36, 63.12, 63.99, 63.26, 62.98, 62.9, 63.44, 63.95, 64.31, 64.55, 64.24, 63.95, 64.45, 64.36, 64.56, 64.89, 64.54, 64.93, 64.92, 65.37, 65.63, 66.09, 65.91, 66.17, 65.76, 65.85, 65.9, 65.88, 65.64, 66.51, 66.03, 66.33, 66.68, 66.18, 66.52, 66.4, 66.88, 66.38, 66.77, 66.3, 66.84, 66.04, 66.8]\n"
     ]
    }
   ],
   "source": [
    "# Main training loop over optimizers and weight decay options, use learning rate scheduler to change learning rate in training\n",
    "for optimizer_name in optimizers:\n",
    "    for wd in weight_decay_options:\n",
    "        print(f\"\\nTraining model with {optimizer_name} optimizer and weight decay {wd}\")\n",
    "        model = models.mobilenet_v3_small(num_classes=10)\n",
    "        # Define optimizer\n",
    "        if optimizer_name == 'SGD':\n",
    "            optimizer = optim.SGD(model.parameters(), lr=learning_rate, momentum=0.9, weight_decay=wd)\n",
    "            scheduler = optim.lr_scheduler.StepLR(optimizer, step_size=20, gamma=0.9)\n",
    "        elif optimizer_name == 'Adam':\n",
    "            optimizer = optim.Adam(model.parameters(), lr=0.0005, weight_decay=wd)\n",
    "            scheduler = optim.lr_scheduler.StepLR(optimizer, step_size=5, gamma=0.9)\n",
    "\n",
    "        # Loss function\n",
    "        criterion = nn.CrossEntropyLoss()\n",
    "\n",
    "        # Train and validate the model\n",
    "        train_model(model, optimizer, criterion, train_loader, val_loader, num_epochs, scheduler)\n",
    "\n"
   ]
  },
  {
   "cell_type": "code",
   "execution_count": 11,
   "id": "9fd0672d-a8bd-4cfb-bfdb-944fd06bedca",
   "metadata": {
    "colab": {
     "base_uri": "https://localhost:8080/"
    },
    "executionInfo": {
     "elapsed": 4695,
     "status": "ok",
     "timestamp": 1731019616309,
     "user": {
      "displayName": "George Yang",
      "userId": "04337997738831410077"
     },
     "user_tz": -630
    },
    "id": "9fd0672d-a8bd-4cfb-bfdb-944fd06bedca",
    "outputId": "6fcc1d7c-f907-49e5-f18b-d2083a1d308e"
   },
   "outputs": [
    {
     "name": "stderr",
     "output_type": "stream",
     "text": [
      "<ipython-input-11-050b3fe6e10f>:4: FutureWarning: You are using `torch.load` with `weights_only=False` (the current default value), which uses the default pickle module implicitly. It is possible to construct malicious pickle data which will execute arbitrary code during unpickling (See https://github.com/pytorch/pytorch/blob/main/SECURITY.md#untrusted-models for more details). In a future release, the default value for `weights_only` will be flipped to `True`. This limits the functions that could be executed during unpickling. Arbitrary objects will no longer be allowed to be loaded via this mode unless they are explicitly allowlisted by the user via `torch.serialization.add_safe_globals`. We recommend you start setting `weights_only=True` for any use case where you don't have full control of the loaded file. Please open an issue on GitHub for any issues related to this experimental feature.\n",
      "  model.load_state_dict(torch.load(model_path))\n"
     ]
    },
    {
     "name": "stdout",
     "output_type": "stream",
     "text": [
      "Test Accuracy: 71.15%\n"
     ]
    }
   ],
   "source": [
    "# Testing model\n",
    "def test_model(model_path, test_loader):\n",
    "    model = models.mobilenet_v3_small(num_classes=10)\n",
    "    model.load_state_dict(torch.load(model_path))\n",
    "    model.to(device)\n",
    "    model.eval()\n",
    "\n",
    "    correct = 0\n",
    "    total = 0\n",
    "    with torch.no_grad():\n",
    "        for data, targets in test_loader:\n",
    "            data, targets = data.to(device), targets.to(device)\n",
    "            outputs = model(data)\n",
    "            _, predicted = outputs.max(1)\n",
    "            total += targets.size(0)\n",
    "            correct += predicted.eq(targets).sum().item()\n",
    "\n",
    "    print(f'Test Accuracy: {100. * correct / total:.2f}%')\n",
    "\n",
    "test_model('/content/drive/MyDrive/DLassignment2/models/mobilenet_best.pth', test_loader)"
   ]
  },
  {
   "cell_type": "code",
   "execution_count": null,
   "id": "LLrLxSPL3hSj",
   "metadata": {
    "id": "LLrLxSPL3hSj"
   },
   "outputs": [],
   "source": []
  },
  {
   "cell_type": "code",
   "execution_count": null,
   "id": "v4u9DV2y3hJP",
   "metadata": {
    "id": "v4u9DV2y3hJP"
   },
   "outputs": [],
   "source": []
  },
  {
   "cell_type": "code",
   "execution_count": null,
   "id": "ReVHAyQ03g9_",
   "metadata": {
    "id": "ReVHAyQ03g9_"
   },
   "outputs": [],
   "source": []
  },
  {
   "cell_type": "code",
   "execution_count": 12,
   "id": "50752205-b6a2-4794-b563-3acbf41440c9",
   "metadata": {
    "executionInfo": {
     "elapsed": 994,
     "status": "ok",
     "timestamp": 1731019756369,
     "user": {
      "displayName": "George Yang",
      "userId": "04337997738831410077"
     },
     "user_tz": -630
    },
    "id": "50752205-b6a2-4794-b563-3acbf41440c9"
   },
   "outputs": [],
   "source": [
    "train_losses = [\n",
    "    1.9187, 1.7083, 1.6178, 1.5588, 1.5034, 1.4584, 1.4227, 1.3996, 1.3732, 1.3594,\n",
    "    1.3345, 1.3196, 1.3028, 1.2930, 1.2746, 1.2623, 1.2502, 1.2375, 1.2260, 1.2083,\n",
    "    1.1945, 1.1916, 1.1755, 1.1744, 1.1602, 1.1478, 1.1468, 1.1398, 1.1298, 1.1221,\n",
    "    1.1144, 1.1119, 1.1077, 1.1037, 1.0978, 1.0852, 1.0827, 1.0789, 1.0767, 1.0756,\n",
    "    1.0664, 1.0622, 1.0578, 1.0626, 1.0564, 1.0506, 1.0431, 1.0440, 1.0398, 1.0311,\n",
    "    1.0512654339790344, 1.0475368996620178, 1.0401265248298646, 1.0438257891654967, 1.0364040996551513, 1.036892327594757, 1.0286025152206422, 1.0270137283325196, 1.029113743877411, 1.0248709761619568, 1.0257029200553893, 1.0147139811515808, 1.0097884661674499, 1.011268239402771, 1.0071424512863159, 0.9944770536422729, 0.9970300119400024, 1.0011383959770204, 0.9970583190917969, 0.9853036236763001, 0.98615442237854, 0.9853135605812072, 0.9859323874473572, 0.9852685119628907, 0.9771467797279358, 0.9701896673202515, 0.9688736194610595, 0.9701808411598205, 0.9674435909271241, 0.9662602400779724, 0.9589210807800292, 0.9589948254585267, 0.9632823146820069, 0.9545660217285157, 0.9525877274513245, 0.9507682553291321, 0.9499223588943482, 0.9536980585098267, 0.9481048850059509, 0.948748981666565, 0.9454320877075195, 0.9458488456726074, 0.9401708684921265, 0.9400688654899597, 0.9380097591400146, 0.9345424199104309\n",
    "    ]\n",
    "\n",
    "val_losses = [\n",
    "    2.0932, 1.7317, 1.6643, 1.5360, 1.5172, 1.4425, 1.4213, 1.4011, 1.3590, 1.3585,\n",
    "    1.3167, 1.3099, 1.2923, 1.2992, 1.2645, 1.2472, 1.2474, 1.2223, 1.2235, 1.2192,\n",
    "    1.1926, 1.1966, 1.1734, 1.1600, 1.1679, 1.1652, 1.1348, 1.1248, 1.1315, 1.1944,\n",
    "    1.2055, 1.1312, 1.1081, 1.0971, 1.1273, 1.0816, 1.0828, 1.0990, 1.0917, 1.0569,\n",
    "    1.0510, 1.0470, 1.0589, 1.0514, 1.0448, 1.0500, 1.0508, 1.0598, 1.0329, 1.0209,\n",
    "    1.080600917339325, 1.0391528758273763, 1.0475500222224339, 1.047957702047506, 1.0440927990682565, 1.015123766698655, 1.020944232773629, 1.038723275160334, 1.033323817951664, 1.0216518955625546, 1.0174740264370183, 1.0091570289271652, 1.0133132019620033, 0.9996535250335742, 1.018402246532926, 0.9972832950816792, 0.9958548124428768, 0.9954990714218965, 0.9962281094994515, 0.9947699054031615, 0.9911330543505917, 0.9829700167771358, 0.9770046476345913, 0.9713011163814812, 0.9686315651911839, 0.9745125015070484, 0.9597995273626534, 0.9683850415193351, 0.9628907248472712, 0.966466278027577, 0.9647103153216611, 0.9566674114792211, 0.9495096647056045, 0.9570586377648032, 0.9551336176835807, 0.937196067564047, 0.9434169018344515, 0.9485389043571083, 0.9495287951390454, 0.9484216663867805, 0.9469767858268349, 0.9539427415580507, 0.9427833576111277, 0.940933625789205, 0.9464684755179533, 0.9442367747331121\n",
    "    ]\n",
    "\n",
    "train_accuracies = [\n",
    "    27.55, 36.38, 40.09, 42.55, 45.26, 46.63, 48.45, 49.41, 50.50, 50.87,\n",
    "    51.86, 52.19, 53.01, 53.49, 53.98, 54.41, 54.95, 55.75, 56.13, 56.46,\n",
    "    57.18, 57.22, 57.83, 57.78, 58.55, 58.80, 58.76, 59.71, 59.84, 60.16,\n",
    "    60.27, 60.15, 60.41, 60.82, 60.99, 61.25, 61.26, 61.77, 61.72, 61.83,\n",
    "    62.38, 62.45, 62.47, 62.09, 62.53, 62.86, 62.95, 63.16, 63.05, 63.38,\n",
    "    62.82, 62.99, 63.2025, 63.32, 63.385, 63.38, 63.5475, 63.695, 63.3925, 63.9375, 63.82, 64.29, 64.285, 64.3375, 64.4975, 65.085, 64.825, 64.8175, 64.8675, 65.35, 65.3725, 65.0225, 65.465, 65.3775, 65.715, 65.895, 65.755, 65.7425, 65.845, 66.1575, 66.295, 66.2375, 66.125, 66.4625, 66.2225, 66.68, 66.65, 66.34, 66.64, 66.81, 66.6475, 66.8125, 66.9675, 67.045, 67.1025, 67.2225\n",
    "    ]\n",
    "\n",
    "\n",
    "val_accuracies = [\n",
    "    27.60, 37.81, 39.72, 44.31, 44.39, 47.07, 48.57, 49.85, 51.00, 50.18,\n",
    "    51.93, 52.70, 53.09, 53.25, 54.39, 54.96, 55.41, 55.81, 56.92, 55.50,\n",
    "    56.95, 56.52, 58.18, 58.23, 58.35, 58.49, 60.05, 59.45, 59.85, 56.89,\n",
    "    56.97, 59.44, 60.40, 60.92, 59.83, 61.81, 61.31, 60.70, 60.80, 62.21,\n",
    "    62.81, 62.61, 62.23, 63.19, 62.74, 62.85, 62.26, 62.18, 64.28, 63.55,\n",
    "    61.04, 62.73, 62.9, 63.36, 63.12, 63.99, 63.26, 62.98, 62.9, 63.44, 63.95, 64.31, 64.55, 64.24, 63.95, 64.45, 64.36, 64.56, 64.89, 64.54, 64.93, 64.92, 65.37, 65.63, 66.09, 65.91, 66.17, 65.76, 65.85, 65.9, 65.88, 65.64, 66.51, 66.03, 66.33, 66.68, 66.18, 66.52, 66.4, 66.88, 66.38, 66.77, 66.3, 66.84, 66.04, 66.8\n",
    "\n",
    "]\n"
   ]
  },
  {
   "cell_type": "code",
   "execution_count": null,
   "id": "C0Qys658MX9G",
   "metadata": {
    "colab": {
     "base_uri": "https://localhost:8080/"
    },
    "executionInfo": {
     "elapsed": 397,
     "status": "ok",
     "timestamp": 1730884383002,
     "user": {
      "displayName": "George Yang",
      "userId": "04337997738831410077"
     },
     "user_tz": -630
    },
    "id": "C0Qys658MX9G",
    "outputId": "b191de22-f342-44f6-a2e3-ee79c9ba7bb6"
   },
   "outputs": [
    {
     "data": {
      "text/plain": [
       "50"
      ]
     },
     "execution_count": 21,
     "metadata": {},
     "output_type": "execute_result"
    }
   ],
   "source": [
    "len(train_losses)"
   ]
  },
  {
   "cell_type": "code",
   "execution_count": 13,
   "id": "9783c43e-7f10-4448-9c66-6385351ab76d",
   "metadata": {
    "colab": {
     "base_uri": "https://localhost:8080/",
     "height": 487
    },
    "executionInfo": {
     "elapsed": 859,
     "status": "ok",
     "timestamp": 1731019760259,
     "user": {
      "displayName": "George Yang",
      "userId": "04337997738831410077"
     },
     "user_tz": -630
    },
    "id": "9783c43e-7f10-4448-9c66-6385351ab76d",
    "outputId": "2b2645e5-6ed2-455e-9dc8-fd43374d43eb"
   },
   "outputs": [
    {
     "data": {
      "image/png": "[encoded data removed]",
      "text/plain": [
       "<Figure size 1200x500 with 2 Axes>"
      ]
     },
     "metadata": {},
     "output_type": "display_data"
    }
   ],
   "source": [
    "plot_metrics(train_losses, val_losses, train_accuracies, val_accuracies)"
   ]
  }
 ],
 "metadata": {
  "accelerator": "GPU",
  "colab": {
   "gpuType": "T4",
   "provenance": []
  },
  "kernelspec": {
   "display_name": "Python 3 (ipykernel)",
   "language": "python",
   "name": "python3"
  },
  "language_info": {
   "codemirror_mode": {
    "name": "ipython",
    "version": 3
   },
   "file_extension": ".py",
   "mimetype": "text/x-python",
   "name": "python",
   "nbconvert_exporter": "python",
   "pygments_lexer": "ipython3",
   "version": "3.11.9"
  }
 },
 "nbformat": 4,
 "nbformat_minor": 5
}
