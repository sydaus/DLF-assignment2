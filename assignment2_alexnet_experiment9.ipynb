{
 "cells": [
  {
   "cell_type": "code",
   "execution_count": 2,
   "id": "cc03f58a-0c43-4af2-8cdc-b18d174950a1",
   "metadata": {
    "colab": {
     "base_uri": "https://localhost:8080/"
    },
    "executionInfo": {
     "elapsed": 34236,
     "status": "ok",
     "timestamp": 1730812997002,
     "user": {
      "displayName": "George Yang",
      "userId": "04337997738831410077"
     },
     "user_tz": -630
    },
    "id": "cc03f58a-0c43-4af2-8cdc-b18d174950a1",
    "outputId": "ecba73a7-b912-4319-afb2-7ddb254d6462"
   },
   "outputs": [
    {
     "name": "stdout",
     "output_type": "stream",
     "text": [
      "Mounted at /content/drive\n"
     ]
    }
   ],
   "source": [
    "import torch\n",
    "import torch.nn as nn\n",
    "import torch.optim as optim\n",
    "import torchvision.transforms as transforms\n",
    "import torchvision.datasets as datasets\n",
    "from torchvision import models\n",
    "from torch.utils.data import DataLoader, random_split\n",
    "from tqdm import tqdm\n",
    "import matplotlib.pyplot as plt\n",
    "import os\n",
    "\n",
    "# Set device\n",
    "device = torch.device(\"cuda\" if torch.cuda.is_available() else \"cpu\")\n",
    "\n",
    "from google.colab import drive\n",
    "drive.mount('/content/drive')\n",
    "os.makedirs(\"/content/drive/MyDrive/DLassignment2/models\", exist_ok=True)"
   ]
  },
  {
   "cell_type": "code",
   "execution_count": 3,
   "id": "cbc77ed1-0e10-4aed-b7d8-b0af1528d4be",
   "metadata": {
    "executionInfo": {
     "elapsed": 409,
     "status": "ok",
     "timestamp": 1730813001179,
     "user": {
      "displayName": "George Yang",
      "userId": "04337997738831410077"
     },
     "user_tz": -630
    },
    "id": "cbc77ed1-0e10-4aed-b7d8-b0af1528d4be"
   },
   "outputs": [],
   "source": [
    "# Hyperparameters\n",
    "num_epochs = 60\n",
    "batch_size = 64\n",
    "learning_rate = 0.1\n",
    "#weight_decay_options = [1e-4, 5e-4]\n",
    "weight_decay_options = [5e-4]\n",
    "#optimizers = ['SGD', 'Adam']\n",
    "optimizers = ['Adam']\n",
    "patience = 5\n"
   ]
  },
  {
   "cell_type": "code",
   "execution_count": 4,
   "id": "9f688bf9-e826-44bb-aa58-33ea0e5f5700",
   "metadata": {
    "executionInfo": {
     "elapsed": 1459,
     "status": "ok",
     "timestamp": 1730813009147,
     "user": {
      "displayName": "George Yang",
      "userId": "04337997738831410077"
     },
     "user_tz": -630
    },
    "id": "9f688bf9-e826-44bb-aa58-33ea0e5f5700"
   },
   "outputs": [],
   "source": [
    "# Data transforms\n",
    "transform_train = transforms.Compose([\n",
    "    transforms.Resize((224,224)),\n",
    "    transforms.RandomHorizontalFlip(),\n",
    "    transforms.RandomCrop(224, padding=4),\n",
    "    transforms.RandomRotation(15),\n",
    "    transforms.ColorJitter(brightness=0.2, contrast=0.2, saturation=0.2, hue=0.1),\n",
    "    transforms.ToTensor(),\n",
    "    transforms.Normalize((0.4914, 0.4822, 0.4465), (0.247, 0.243, 0.261))\n",
    "])\n",
    "\n",
    "transform_test = transforms.Compose([\n",
    "    transforms.Resize((224,224)),\n",
    "    transforms.ToTensor(),\n",
    "    transforms.Normalize((0.4914, 0.4822, 0.4465), (0.247, 0.243, 0.261))\n",
    "])\n"
   ]
  },
  {
   "cell_type": "code",
   "execution_count": 5,
   "id": "d4b85ca9-52e0-42ae-b555-f64a351abde5",
   "metadata": {
    "colab": {
     "base_uri": "https://localhost:8080/"
    },
    "executionInfo": {
     "elapsed": 8331,
     "status": "ok",
     "timestamp": 1730813021011,
     "user": {
      "displayName": "George Yang",
      "userId": "04337997738831410077"
     },
     "user_tz": -630
    },
    "id": "d4b85ca9-52e0-42ae-b555-f64a351abde5",
    "outputId": "93c6de14-a267-408a-bcdd-ecbbfb40b5da"
   },
   "outputs": [
    {
     "name": "stdout",
     "output_type": "stream",
     "text": [
      "Downloading https://www.cs.toronto.edu/~kriz/cifar-10-python.tar.gz to /content/data/cifar-10-python.tar.gz\n"
     ]
    },
    {
     "name": "stderr",
     "output_type": "stream",
     "text": [
      "100%|██████████| 170M/170M [00:04<00:00, 38.5MB/s]\n"
     ]
    },
    {
     "name": "stdout",
     "output_type": "stream",
     "text": [
      "Extracting /content/data/cifar-10-python.tar.gz to /content/data\n",
      "Files already downloaded and verified\n"
     ]
    }
   ],
   "source": [
    "# Load dataset and split into train, val, and test sets\n",
    "train_dataset = datasets.CIFAR10(root='/content/data', train=True, transform=transform_train, download=True)\n",
    "test_dataset = datasets.CIFAR10(root='/content/data', train=False, transform=transform_test, download=True)\n",
    "\n",
    "seed_value = 42\n",
    "torch.manual_seed(seed_value)\n",
    "train_size = int(0.8 * len(train_dataset))\n",
    "val_size = len(train_dataset) - train_size\n",
    "train_data, val_data = random_split(train_dataset, [train_size, val_size])\n",
    "\n",
    "train_loader = DataLoader(train_data, batch_size=batch_size, shuffle=True)\n",
    "val_loader = DataLoader(val_data, batch_size=batch_size, shuffle=False)\n",
    "\n",
    "test_loader = DataLoader(test_dataset, batch_size=batch_size, shuffle=False)"
   ]
  },
  {
   "cell_type": "code",
   "execution_count": null,
   "id": "XQMT8Kj4jzDT",
   "metadata": {
    "colab": {
     "base_uri": "https://localhost:8080/"
    },
    "executionInfo": {
     "elapsed": 591,
     "status": "ok",
     "timestamp": 1730763887886,
     "user": {
      "displayName": "George Yang",
      "userId": "04337997738831410077"
     },
     "user_tz": -630
    },
    "id": "XQMT8Kj4jzDT",
    "outputId": "ee1f31e3-8c61-4d93-ec75-f9203b224c6d"
   },
   "outputs": [
    {
     "name": "stdout",
     "output_type": "stream",
     "text": [
      "torch.Size([64, 3, 224, 224])\n"
     ]
    }
   ],
   "source": [
    "for data, _ in train_loader:\n",
    "    print(data.shape)\n",
    "    break"
   ]
  },
  {
   "cell_type": "code",
   "execution_count": 12,
   "id": "4705c57f-a7f0-46b3-acab-4ac1ffc91e51",
   "metadata": {
    "executionInfo": {
     "elapsed": 546,
     "status": "ok",
     "timestamp": 1730813868435,
     "user": {
      "displayName": "George Yang",
      "userId": "04337997738831410077"
     },
     "user_tz": -630
    },
    "id": "4705c57f-a7f0-46b3-acab-4ac1ffc91e51"
   },
   "outputs": [],
   "source": [
    "\n",
    "# Function to plot training and validation metrics\n",
    "def plot_metrics(train_losses, val_losses, train_accuracies, val_accuracies):\n",
    "    epochs = range(1, len(train_losses) + 1)\n",
    "\n",
    "    # Plot loss\n",
    "    plt.figure(figsize=(12, 5))\n",
    "    plt.subplot(1, 2, 1)\n",
    "    plt.plot(epochs, train_losses, label='Train Loss')\n",
    "    plt.plot(epochs, val_losses, label='Validation Loss')\n",
    "    plt.xlabel('Epoch')\n",
    "    plt.ylabel('Loss')\n",
    "    plt.title('Training and Validation Loss')\n",
    "    plt.legend()\n",
    "\n",
    "    # Plot accuracy\n",
    "    plt.subplot(1, 2, 2)\n",
    "    plt.plot(epochs, train_accuracies, label='Train Accuracy')\n",
    "    plt.plot(epochs, val_accuracies, label='Validation Accuracy')\n",
    "    plt.xlabel('Epoch')\n",
    "    plt.ylabel('Accuracy')\n",
    "    plt.title('Training and Validation Accuracy')\n",
    "    plt.legend()\n",
    "\n",
    "    plt.show()\n",
    "\n",
    "# Training function\n",
    "def train_model(model, optimizer, criterion, train_loader, val_loader, num_epochs, scheduler=None):\n",
    "    model.to(device)\n",
    "    best_val_loss = float('inf')\n",
    "    epochs_without_improvement = 0\n",
    "\n",
    "    # Load checkpoint if available\n",
    "    checkpoint_path = '/content/drive/MyDrive/DLassignment2/models/alexnet_best.pth'\n",
    "    start_epoch = 31\n",
    "    if os.path.isfile(checkpoint_path):\n",
    "        print(\"Loading checkpoint...\")\n",
    "        model.load_state_dict(torch.load(checkpoint_path))\n",
    "\n",
    "    # Lists to store training/validation loss and accuracy for each epoch\n",
    "    train_losses = []\n",
    "    val_losses = []\n",
    "    train_accuracies = []\n",
    "    val_accuracies = []\n",
    "\n",
    "    for epoch in range(start_epoch, num_epochs):\n",
    "        # Training phase\n",
    "        model.train()\n",
    "        train_loss = 0\n",
    "        correct = 0\n",
    "        total = 0\n",
    "        for batch_idx, (data, targets) in enumerate(tqdm(train_loader)):\n",
    "            data, targets = data.to(device), targets.to(device)\n",
    "\n",
    "            # Forward pass\n",
    "            outputs = model(data)\n",
    "            loss = criterion(outputs, targets)\n",
    "            train_loss += loss.item()\n",
    "\n",
    "            # Backward pass and optimize\n",
    "            optimizer.zero_grad()\n",
    "            loss.backward()\n",
    "            optimizer.step()\n",
    "\n",
    "            # Calculate accuracy\n",
    "            _, predicted = outputs.max(1)\n",
    "            total += targets.size(0)\n",
    "            correct += predicted.eq(targets).sum().item()\n",
    "\n",
    "        train_accuracy = 100. * correct / total\n",
    "        train_losses.append(train_loss / len(train_loader))\n",
    "        train_accuracies.append(train_accuracy)\n",
    "\n",
    "        # Validation phase\n",
    "        model.eval()\n",
    "        val_loss = 0\n",
    "        correct = 0\n",
    "        total = 0\n",
    "        with torch.no_grad():\n",
    "            for batch_idx, (data, targets) in enumerate(val_loader):\n",
    "                data, targets = data.to(device), targets.to(device)\n",
    "                outputs = model(data)\n",
    "                loss = criterion(outputs, targets)\n",
    "                val_loss += loss.item()\n",
    "\n",
    "                _, predicted = outputs.max(1)\n",
    "                total += targets.size(0)\n",
    "                correct += predicted.eq(targets).sum().item()\n",
    "\n",
    "        val_loss /= len(val_loader)\n",
    "        val_accuracy = 100. * correct / total\n",
    "        val_losses.append(val_loss)\n",
    "        val_accuracies.append(val_accuracy)\n",
    "\n",
    "        # Check for improvement & save the model\n",
    "        if val_loss < best_val_loss:\n",
    "            best_val_loss = val_loss\n",
    "            epochs_without_improvement = 0\n",
    "            torch.save(model.state_dict(), '/content/drive/MyDrive/DLassignment2/models/alexnet_best.pth')\n",
    "            print(f\"New best model saved at epoch {epoch+1} with validation loss {val_loss:.4f}\")\n",
    "        else:\n",
    "            epochs_without_improvement += 1\n",
    "\n",
    "        # Early stopping condition\n",
    "        if epochs_without_improvement >= patience:\n",
    "            print(f\"Early stopping at epoch {epoch+1} with best validation loss {best_val_loss:.4f}\")\n",
    "            break\n",
    "\n",
    "        print(f'Epoch [{epoch+1}/{num_epochs}], Train Loss: {train_losses[-1]:.4f}, '\n",
    "              f'Train Acc: {train_accuracies[-1]:.2f}, Val Loss: {val_losses[-1]:.4f}, '\n",
    "              f'Val Acc: {val_accuracies[-1]:.2f}')\n",
    "\n",
    "\n",
    "        # Step the scheduler\n",
    "        if scheduler:\n",
    "            scheduler.step()\n",
    "\n",
    "    # Plotting the training and validation metrics\n",
    "    plot_metrics(train_losses, val_losses, train_accuracies, val_accuracies)\n",
    "\n",
    "\n",
    "\n"
   ]
  },
  {
   "cell_type": "code",
   "execution_count": 14,
   "id": "424b2a50-db2e-4f64-93f8-a88275f2d15d",
   "metadata": {
    "colab": {
     "base_uri": "https://localhost:8080/",
     "height": 1000
    },
    "executionInfo": {
     "elapsed": 12792580,
     "status": "ok",
     "timestamp": 1730826705065,
     "user": {
      "displayName": "George Yang",
      "userId": "04337997738831410077"
     },
     "user_tz": -630
    },
    "id": "424b2a50-db2e-4f64-93f8-a88275f2d15d",
    "outputId": "a020b803-58eb-4677-fe1d-1dbc382f27d4",
    "scrolled": true
   },
   "outputs": [
    {
     "name": "stdout",
     "output_type": "stream",
     "text": [
      "\n",
      "Training model with Adam optimizer and weight decay 0.0005\n",
      "Loading checkpoint...\n"
     ]
    },
    {
     "name": "stderr",
     "output_type": "stream",
     "text": [
      "<ipython-input-12-60015afceba5>:37: FutureWarning: You are using `torch.load` with `weights_only=False` (the current default value), which uses the default pickle module implicitly. It is possible to construct malicious pickle data which will execute arbitrary code during unpickling (See https://github.com/pytorch/pytorch/blob/main/SECURITY.md#untrusted-models for more details). In a future release, the default value for `weights_only` will be flipped to `True`. This limits the functions that could be executed during unpickling. Arbitrary objects will no longer be allowed to be loaded via this mode unless they are explicitly allowlisted by the user via `torch.serialization.add_safe_globals`. We recommend you start setting `weights_only=True` for any use case where you don't have full control of the loaded file. Please open an issue on GitHub for any issues related to this experimental feature.\n",
      "  model.load_state_dict(torch.load(checkpoint_path))\n",
      "100%|██████████| 625/625 [06:01<00:00,  1.73it/s]\n"
     ]
    },
    {
     "name": "stdout",
     "output_type": "stream",
     "text": [
      "New best model saved at epoch 32 with validation loss 0.8464\n",
      "Epoch [32/60], Train Loss: 0.9083, Train Acc: 68.89, Val Loss: 0.8464, Val Acc: 70.44\n"
     ]
    },
    {
     "name": "stderr",
     "output_type": "stream",
     "text": [
      "100%|██████████| 625/625 [06:01<00:00,  1.73it/s]\n"
     ]
    },
    {
     "name": "stdout",
     "output_type": "stream",
     "text": [
      "New best model saved at epoch 33 with validation loss 0.8184\n",
      "Epoch [33/60], Train Loss: 0.9019, Train Acc: 68.80, Val Loss: 0.8184, Val Acc: 71.54\n"
     ]
    },
    {
     "name": "stderr",
     "output_type": "stream",
     "text": [
      "100%|██████████| 625/625 [06:02<00:00,  1.73it/s]\n"
     ]
    },
    {
     "name": "stdout",
     "output_type": "stream",
     "text": [
      "Epoch [34/60], Train Loss: 0.8889, Train Acc: 69.59, Val Loss: 0.8567, Val Acc: 70.58\n"
     ]
    },
    {
     "name": "stderr",
     "output_type": "stream",
     "text": [
      "100%|██████████| 625/625 [05:58<00:00,  1.74it/s]\n"
     ]
    },
    {
     "name": "stdout",
     "output_type": "stream",
     "text": [
      "Epoch [35/60], Train Loss: 0.8937, Train Acc: 69.21, Val Loss: 0.8282, Val Acc: 71.42\n"
     ]
    },
    {
     "name": "stderr",
     "output_type": "stream",
     "text": [
      "100%|██████████| 625/625 [05:59<00:00,  1.74it/s]\n"
     ]
    },
    {
     "name": "stdout",
     "output_type": "stream",
     "text": [
      "New best model saved at epoch 36 with validation loss 0.8105\n",
      "Epoch [36/60], Train Loss: 0.8902, Train Acc: 69.48, Val Loss: 0.8105, Val Acc: 71.71\n"
     ]
    },
    {
     "name": "stderr",
     "output_type": "stream",
     "text": [
      "100%|██████████| 625/625 [06:01<00:00,  1.73it/s]\n"
     ]
    },
    {
     "name": "stdout",
     "output_type": "stream",
     "text": [
      "New best model saved at epoch 37 with validation loss 0.8091\n",
      "Epoch [37/60], Train Loss: 0.8843, Train Acc: 69.63, Val Loss: 0.8091, Val Acc: 72.40\n"
     ]
    },
    {
     "name": "stderr",
     "output_type": "stream",
     "text": [
      "100%|██████████| 625/625 [05:59<00:00,  1.74it/s]\n"
     ]
    },
    {
     "name": "stdout",
     "output_type": "stream",
     "text": [
      "New best model saved at epoch 38 with validation loss 0.7948\n",
      "Epoch [38/60], Train Loss: 0.8759, Train Acc: 70.08, Val Loss: 0.7948, Val Acc: 73.10\n"
     ]
    },
    {
     "name": "stderr",
     "output_type": "stream",
     "text": [
      "100%|██████████| 625/625 [05:58<00:00,  1.74it/s]\n"
     ]
    },
    {
     "name": "stdout",
     "output_type": "stream",
     "text": [
      "New best model saved at epoch 39 with validation loss 0.7691\n",
      "Epoch [39/60], Train Loss: 0.8628, Train Acc: 70.36, Val Loss: 0.7691, Val Acc: 73.58\n"
     ]
    },
    {
     "name": "stderr",
     "output_type": "stream",
     "text": [
      "100%|██████████| 625/625 [05:59<00:00,  1.74it/s]\n"
     ]
    },
    {
     "name": "stdout",
     "output_type": "stream",
     "text": [
      "Epoch [40/60], Train Loss: 0.8632, Train Acc: 70.52, Val Loss: 0.7947, Val Acc: 72.03\n"
     ]
    },
    {
     "name": "stderr",
     "output_type": "stream",
     "text": [
      "100%|██████████| 625/625 [05:59<00:00,  1.74it/s]\n"
     ]
    },
    {
     "name": "stdout",
     "output_type": "stream",
     "text": [
      "Epoch [41/60], Train Loss: 0.8627, Train Acc: 70.50, Val Loss: 0.7905, Val Acc: 72.76\n"
     ]
    },
    {
     "name": "stderr",
     "output_type": "stream",
     "text": [
      "100%|██████████| 625/625 [05:59<00:00,  1.74it/s]\n"
     ]
    },
    {
     "name": "stdout",
     "output_type": "stream",
     "text": [
      "New best model saved at epoch 42 with validation loss 0.7620\n",
      "Epoch [42/60], Train Loss: 0.8346, Train Acc: 71.46, Val Loss: 0.7620, Val Acc: 73.48\n"
     ]
    },
    {
     "name": "stderr",
     "output_type": "stream",
     "text": [
      "100%|██████████| 625/625 [06:00<00:00,  1.73it/s]\n"
     ]
    },
    {
     "name": "stdout",
     "output_type": "stream",
     "text": [
      "Epoch [43/60], Train Loss: 0.8343, Train Acc: 71.32, Val Loss: 0.7791, Val Acc: 73.20\n"
     ]
    },
    {
     "name": "stderr",
     "output_type": "stream",
     "text": [
      "100%|██████████| 625/625 [05:59<00:00,  1.74it/s]\n"
     ]
    },
    {
     "name": "stdout",
     "output_type": "stream",
     "text": [
      "New best model saved at epoch 44 with validation loss 0.7416\n",
      "Epoch [44/60], Train Loss: 0.8302, Train Acc: 71.48, Val Loss: 0.7416, Val Acc: 73.75\n"
     ]
    },
    {
     "name": "stderr",
     "output_type": "stream",
     "text": [
      "100%|██████████| 625/625 [05:59<00:00,  1.74it/s]\n"
     ]
    },
    {
     "name": "stdout",
     "output_type": "stream",
     "text": [
      "Epoch [45/60], Train Loss: 0.8216, Train Acc: 71.80, Val Loss: 0.7790, Val Acc: 72.59\n"
     ]
    },
    {
     "name": "stderr",
     "output_type": "stream",
     "text": [
      "100%|██████████| 625/625 [05:58<00:00,  1.74it/s]\n"
     ]
    },
    {
     "name": "stdout",
     "output_type": "stream",
     "text": [
      "Epoch [46/60], Train Loss: 0.8138, Train Acc: 72.18, Val Loss: 0.7589, Val Acc: 73.56\n"
     ]
    },
    {
     "name": "stderr",
     "output_type": "stream",
     "text": [
      "100%|██████████| 625/625 [06:09<00:00,  1.69it/s]\n"
     ]
    },
    {
     "name": "stdout",
     "output_type": "stream",
     "text": [
      "Epoch [47/60], Train Loss: 0.8174, Train Acc: 72.00, Val Loss: 0.7555, Val Acc: 73.49\n"
     ]
    },
    {
     "name": "stderr",
     "output_type": "stream",
     "text": [
      "100%|██████████| 625/625 [06:01<00:00,  1.73it/s]\n"
     ]
    },
    {
     "name": "stdout",
     "output_type": "stream",
     "text": [
      "New best model saved at epoch 48 with validation loss 0.7371\n",
      "Epoch [48/60], Train Loss: 0.8106, Train Acc: 72.38, Val Loss: 0.7371, Val Acc: 75.10\n"
     ]
    },
    {
     "name": "stderr",
     "output_type": "stream",
     "text": [
      "100%|██████████| 625/625 [06:01<00:00,  1.73it/s]\n"
     ]
    },
    {
     "name": "stdout",
     "output_type": "stream",
     "text": [
      "Epoch [49/60], Train Loss: 0.8080, Train Acc: 72.28, Val Loss: 0.7538, Val Acc: 74.49\n"
     ]
    },
    {
     "name": "stderr",
     "output_type": "stream",
     "text": [
      "100%|██████████| 625/625 [06:02<00:00,  1.72it/s]\n"
     ]
    },
    {
     "name": "stdout",
     "output_type": "stream",
     "text": [
      "Epoch [50/60], Train Loss: 0.8035, Train Acc: 72.57, Val Loss: 0.7602, Val Acc: 73.76\n"
     ]
    },
    {
     "name": "stderr",
     "output_type": "stream",
     "text": [
      "100%|██████████| 625/625 [06:03<00:00,  1.72it/s]\n"
     ]
    },
    {
     "name": "stdout",
     "output_type": "stream",
     "text": [
      "Epoch [51/60], Train Loss: 0.7949, Train Acc: 72.78, Val Loss: 0.7574, Val Acc: 74.43\n"
     ]
    },
    {
     "name": "stderr",
     "output_type": "stream",
     "text": [
      "100%|██████████| 625/625 [06:01<00:00,  1.73it/s]\n"
     ]
    },
    {
     "name": "stdout",
     "output_type": "stream",
     "text": [
      "New best model saved at epoch 52 with validation loss 0.7266\n",
      "Epoch [52/60], Train Loss: 0.7772, Train Acc: 73.60, Val Loss: 0.7266, Val Acc: 75.10\n"
     ]
    },
    {
     "name": "stderr",
     "output_type": "stream",
     "text": [
      "100%|██████████| 625/625 [05:59<00:00,  1.74it/s]\n"
     ]
    },
    {
     "name": "stdout",
     "output_type": "stream",
     "text": [
      "Epoch [53/60], Train Loss: 0.7729, Train Acc: 73.38, Val Loss: 0.7389, Val Acc: 75.15\n"
     ]
    },
    {
     "name": "stderr",
     "output_type": "stream",
     "text": [
      "100%|██████████| 625/625 [05:57<00:00,  1.75it/s]\n"
     ]
    },
    {
     "name": "stdout",
     "output_type": "stream",
     "text": [
      "New best model saved at epoch 54 with validation loss 0.7229\n",
      "Epoch [54/60], Train Loss: 0.7632, Train Acc: 73.87, Val Loss: 0.7229, Val Acc: 75.51\n"
     ]
    },
    {
     "name": "stderr",
     "output_type": "stream",
     "text": [
      "100%|██████████| 625/625 [05:59<00:00,  1.74it/s]\n"
     ]
    },
    {
     "name": "stdout",
     "output_type": "stream",
     "text": [
      "New best model saved at epoch 55 with validation loss 0.7012\n",
      "Epoch [55/60], Train Loss: 0.7648, Train Acc: 73.64, Val Loss: 0.7012, Val Acc: 75.56\n"
     ]
    },
    {
     "name": "stderr",
     "output_type": "stream",
     "text": [
      "100%|██████████| 625/625 [06:00<00:00,  1.73it/s]\n"
     ]
    },
    {
     "name": "stdout",
     "output_type": "stream",
     "text": [
      "Epoch [56/60], Train Loss: 0.7569, Train Acc: 73.93, Val Loss: 0.7099, Val Acc: 75.54\n"
     ]
    },
    {
     "name": "stderr",
     "output_type": "stream",
     "text": [
      "100%|██████████| 625/625 [06:01<00:00,  1.73it/s]\n"
     ]
    },
    {
     "name": "stdout",
     "output_type": "stream",
     "text": [
      "Epoch [57/60], Train Loss: 0.7538, Train Acc: 74.25, Val Loss: 0.7060, Val Acc: 74.93\n"
     ]
    },
    {
     "name": "stderr",
     "output_type": "stream",
     "text": [
      "100%|██████████| 625/625 [06:00<00:00,  1.73it/s]\n"
     ]
    },
    {
     "name": "stdout",
     "output_type": "stream",
     "text": [
      "New best model saved at epoch 58 with validation loss 0.6800\n",
      "Epoch [58/60], Train Loss: 0.7562, Train Acc: 74.05, Val Loss: 0.6800, Val Acc: 76.23\n"
     ]
    },
    {
     "name": "stderr",
     "output_type": "stream",
     "text": [
      "100%|██████████| 625/625 [06:01<00:00,  1.73it/s]\n"
     ]
    },
    {
     "name": "stdout",
     "output_type": "stream",
     "text": [
      "Epoch [59/60], Train Loss: 0.7519, Train Acc: 74.08, Val Loss: 0.7170, Val Acc: 75.86\n"
     ]
    },
    {
     "name": "stderr",
     "output_type": "stream",
     "text": [
      "100%|██████████| 625/625 [05:57<00:00,  1.75it/s]\n"
     ]
    },
    {
     "name": "stdout",
     "output_type": "stream",
     "text": [
      "Epoch [60/60], Train Loss: 0.7554, Train Acc: 74.31, Val Loss: 0.7402, Val Acc: 74.50\n"
     ]
    },
    {
     "data": {
      "image/png": "[encoded data removed]",
      "text/plain": [
       "<Figure size 1200x500 with 2 Axes>"
      ]
     },
     "metadata": {},
     "output_type": "display_data"
    }
   ],
   "source": [
    "# Main training loop over optimizers and weight decay options, use learning rate scheduler to change learning rate in training\n",
    "for optimizer_name in optimizers:\n",
    "    for wd in weight_decay_options:\n",
    "        print(f\"\\nTraining model with {optimizer_name} optimizer and weight decay {wd}\")\n",
    "        model = models.alexnet(num_classes=10)\n",
    "        # Define optimizer\n",
    "        if optimizer_name == 'SGD':\n",
    "            optimizer = optim.SGD(model.parameters(), lr=learning_rate, momentum=0.9, weight_decay=wd)\n",
    "            scheduler = optim.lr_scheduler.StepLR(optimizer, step_size=20, gamma=0.9)\n",
    "        elif optimizer_name == 'Adam':\n",
    "            optimizer = optim.Adam(model.parameters(), lr=0.00081, weight_decay=wd)\n",
    "            scheduler = optim.lr_scheduler.StepLR(optimizer, step_size=10, gamma=0.9)\n",
    "\n",
    "        # Loss function\n",
    "        criterion = nn.CrossEntropyLoss()\n",
    "\n",
    "        # Train and validate the model\n",
    "        train_model(model, optimizer, criterion, train_loader, val_loader, num_epochs, scheduler)\n",
    "\n"
   ]
  },
  {
   "cell_type": "code",
   "execution_count": 15,
   "id": "9fd0672d-a8bd-4cfb-bfdb-944fd06bedca",
   "metadata": {
    "colab": {
     "base_uri": "https://localhost:8080/"
    },
    "executionInfo": {
     "elapsed": 23211,
     "status": "ok",
     "timestamp": 1730827804606,
     "user": {
      "displayName": "George Yang",
      "userId": "04337997738831410077"
     },
     "user_tz": -630
    },
    "id": "9fd0672d-a8bd-4cfb-bfdb-944fd06bedca",
    "outputId": "3834fa35-0da1-4074-df61-126507bb4170"
   },
   "outputs": [
    {
     "name": "stderr",
     "output_type": "stream",
     "text": [
      "<ipython-input-15-6192859d2a92>:4: FutureWarning: You are using `torch.load` with `weights_only=False` (the current default value), which uses the default pickle module implicitly. It is possible to construct malicious pickle data which will execute arbitrary code during unpickling (See https://github.com/pytorch/pytorch/blob/main/SECURITY.md#untrusted-models for more details). In a future release, the default value for `weights_only` will be flipped to `True`. This limits the functions that could be executed during unpickling. Arbitrary objects will no longer be allowed to be loaded via this mode unless they are explicitly allowlisted by the user via `torch.serialization.add_safe_globals`. We recommend you start setting `weights_only=True` for any use case where you don't have full control of the loaded file. Please open an issue on GitHub for any issues related to this experimental feature.\n",
      "  model.load_state_dict(torch.load(model_path))\n"
     ]
    },
    {
     "name": "stdout",
     "output_type": "stream",
     "text": [
      "Test Accuracy: 78.20%\n"
     ]
    }
   ],
   "source": [
    "# Testing model\n",
    "def test_model(model_path, test_loader):\n",
    "    model = models.alexnet(num_classes=10)\n",
    "    model.load_state_dict(torch.load(model_path))\n",
    "    model.to(device)\n",
    "    model.eval()\n",
    "\n",
    "    correct = 0\n",
    "    total = 0\n",
    "    with torch.no_grad():\n",
    "        for data, targets in test_loader:\n",
    "            data, targets = data.to(device), targets.to(device)\n",
    "            outputs = model(data)\n",
    "            _, predicted = outputs.max(1)\n",
    "            total += targets.size(0)\n",
    "            correct += predicted.eq(targets).sum().item()\n",
    "\n",
    "    print(f'Test Accuracy: {100. * correct / total:.2f}%')\n",
    "\n",
    "test_model('/content/drive/MyDrive/DLassignment2/models/alexnet_best.pth', test_loader)"
   ]
  },
  {
   "cell_type": "code",
   "execution_count": null,
   "id": "50752205-b6a2-4794-b563-3acbf41440c9",
   "metadata": {
    "id": "50752205-b6a2-4794-b563-3acbf41440c9"
   },
   "outputs": [],
   "source": []
  },
  {
   "cell_type": "code",
   "execution_count": null,
   "id": "a71e93f4-95d4-4438-9847-fcf9977e3885",
   "metadata": {
    "id": "a71e93f4-95d4-4438-9847-fcf9977e3885"
   },
   "outputs": [],
   "source": []
  },
  {
   "cell_type": "code",
   "execution_count": null,
   "id": "9783c43e-7f10-4448-9c66-6385351ab76d",
   "metadata": {
    "id": "9783c43e-7f10-4448-9c66-6385351ab76d"
   },
   "outputs": [],
   "source": []
  }
 ],
 "metadata": {
  "accelerator": "GPU",
  "colab": {
   "gpuType": "T4",
   "provenance": []
  },
  "kernelspec": {
   "display_name": "Python 3 (ipykernel)",
   "language": "python",
   "name": "python3"
  },
  "language_info": {
   "codemirror_mode": {
    "name": "ipython",
    "version": 3
   },
   "file_extension": ".py",
   "mimetype": "text/x-python",
   "name": "python",
   "nbconvert_exporter": "python",
   "pygments_lexer": "ipython3",
   "version": "3.11.9"
  }
 },
 "nbformat": 4,
 "nbformat_minor": 5
}
