{
 "cells": [
  {
   "cell_type": "code",
   "execution_count": 2,
   "id": "cc03f58a-0c43-4af2-8cdc-b18d174950a1",
   "metadata": {
    "colab": {
     "base_uri": "https://localhost:8080/"
    },
    "executionInfo": {
     "elapsed": 29771,
     "status": "ok",
     "timestamp": 1730694547376,
     "user": {
      "displayName": "George Yang",
      "userId": "04337997738831410077"
     },
     "user_tz": -630
    },
    "id": "cc03f58a-0c43-4af2-8cdc-b18d174950a1",
    "outputId": "13640d7d-e8a0-4cb0-9903-e10cdf61714c"
   },
   "outputs": [
    {
     "name": "stdout",
     "output_type": "stream",
     "text": [
      "Mounted at /content/drive\n"
     ]
    }
   ],
   "source": [
    "import torch\n",
    "import torch.nn as nn\n",
    "import torch.optim as optim\n",
    "import torchvision.transforms as transforms\n",
    "import torchvision.datasets as datasets\n",
    "from torchvision import models\n",
    "from torch.utils.data import DataLoader, random_split\n",
    "from tqdm import tqdm\n",
    "import matplotlib.pyplot as plt\n",
    "import os\n",
    "\n",
    "# Set device\n",
    "device = torch.device(\"cuda\" if torch.cuda.is_available() else \"cpu\")\n",
    "\n",
    "from google.colab import drive\n",
    "drive.mount('/content/drive')\n",
    "os.makedirs(\"/content/drive/MyDrive/DLassignment2/models\", exist_ok=True)"
   ]
  },
  {
   "cell_type": "code",
   "execution_count": 30,
   "id": "cbc77ed1-0e10-4aed-b7d8-b0af1528d4be",
   "metadata": {
    "executionInfo": {
     "elapsed": 384,
     "status": "ok",
     "timestamp": 1730705645270,
     "user": {
      "displayName": "George Yang",
      "userId": "04337997738831410077"
     },
     "user_tz": -630
    },
    "id": "cbc77ed1-0e10-4aed-b7d8-b0af1528d4be"
   },
   "outputs": [],
   "source": [
    "# Hyperparameters\n",
    "num_epochs = 50\n",
    "batch_size = 64\n",
    "learning_rate = 0.1\n",
    "#weight_decay_options = [1e-4, 5e-4]\n",
    "weight_decay_options = [1e-3]\n",
    "#optimizers = ['SGD', 'Adam']\n",
    "optimizers = ['Adam']\n",
    "patience = 5\n"
   ]
  },
  {
   "cell_type": "code",
   "execution_count": 13,
   "id": "9f688bf9-e826-44bb-aa58-33ea0e5f5700",
   "metadata": {
    "executionInfo": {
     "elapsed": 4,
     "status": "ok",
     "timestamp": 1730698466382,
     "user": {
      "displayName": "George Yang",
      "userId": "04337997738831410077"
     },
     "user_tz": -630
    },
    "id": "9f688bf9-e826-44bb-aa58-33ea0e5f5700"
   },
   "outputs": [],
   "source": [
    "# Data transforms\n",
    "transform_train = transforms.Compose([\n",
    "    transforms.RandomHorizontalFlip(),\n",
    "    transforms.RandomCrop(32, padding=4),\n",
    "    transforms.RandomRotation(15),\n",
    "    transforms.ColorJitter(brightness=0.2, contrast=0.2, saturation=0.2, hue=0.1),\n",
    "    transforms.ToTensor(),\n",
    "    transforms.Normalize((0.4914, 0.4822, 0.4465), (0.247, 0.243, 0.261))\n",
    "])\n",
    "\n",
    "transform_test = transforms.Compose([\n",
    "    transforms.ToTensor(),\n",
    "    transforms.Normalize((0.4914, 0.4822, 0.4465), (0.247, 0.243, 0.261))\n",
    "])\n"
   ]
  },
  {
   "cell_type": "code",
   "execution_count": 5,
   "id": "d4b85ca9-52e0-42ae-b555-f64a351abde5",
   "metadata": {
    "colab": {
     "base_uri": "https://localhost:8080/"
    },
    "executionInfo": {
     "elapsed": 10915,
     "status": "ok",
     "timestamp": 1730694592599,
     "user": {
      "displayName": "George Yang",
      "userId": "04337997738831410077"
     },
     "user_tz": -630
    },
    "id": "d4b85ca9-52e0-42ae-b555-f64a351abde5",
    "outputId": "87dc8c13-1ae8-40c9-bfcf-5cae706385cf"
   },
   "outputs": [
    {
     "name": "stdout",
     "output_type": "stream",
     "text": [
      "Downloading https://www.cs.toronto.edu/~kriz/cifar-10-python.tar.gz to ./data/cifar-10-python.tar.gz\n"
     ]
    },
    {
     "name": "stderr",
     "output_type": "stream",
     "text": [
      "100%|██████████| 170M/170M [00:06<00:00, 26.8MB/s]\n"
     ]
    },
    {
     "name": "stdout",
     "output_type": "stream",
     "text": [
      "Extracting ./data/cifar-10-python.tar.gz to ./data\n",
      "Files already downloaded and verified\n"
     ]
    }
   ],
   "source": [
    "# Load dataset and split into train, val, and test sets\n",
    "train_dataset = datasets.CIFAR10(root='./data', train=True, transform=transform_train, download=True)\n",
    "test_dataset = datasets.CIFAR10(root='./data', train=False, transform=transform_test, download=True)\n",
    "\n",
    "seed_value = 42\n",
    "torch.manual_seed(seed_value)\n",
    "train_size = int(0.8 * len(train_dataset))\n",
    "val_size = len(train_dataset) - train_size\n",
    "train_data, val_data = random_split(train_dataset, [train_size, val_size])\n",
    "\n",
    "train_loader = DataLoader(train_data, batch_size=batch_size, shuffle=True)\n",
    "val_loader = DataLoader(val_data, batch_size=batch_size, shuffle=False)\n",
    "\n",
    "test_loader = DataLoader(test_dataset, batch_size=batch_size, shuffle=False)"
   ]
  },
  {
   "cell_type": "code",
   "execution_count": 31,
   "id": "4705c57f-a7f0-46b3-acab-4ac1ffc91e51",
   "metadata": {
    "executionInfo": {
     "elapsed": 383,
     "status": "ok",
     "timestamp": 1730705659868,
     "user": {
      "displayName": "George Yang",
      "userId": "04337997738831410077"
     },
     "user_tz": -630
    },
    "id": "4705c57f-a7f0-46b3-acab-4ac1ffc91e51"
   },
   "outputs": [],
   "source": [
    "\n",
    "# Function to plot training and validation metrics\n",
    "def plot_metrics(train_losses, val_losses, train_accuracies, val_accuracies):\n",
    "    epochs = range(1, len(train_losses) + 1)\n",
    "\n",
    "    # Plot loss\n",
    "    plt.figure(figsize=(12, 5))\n",
    "    plt.subplot(1, 2, 1)\n",
    "    plt.plot(epochs, train_losses, label='Train Loss')\n",
    "    plt.plot(epochs, val_losses, label='Validation Loss')\n",
    "    plt.xlabel('Epoch')\n",
    "    plt.ylabel('Loss')\n",
    "    plt.title('Training and Validation Loss')\n",
    "    plt.legend()\n",
    "\n",
    "    # Plot accuracy\n",
    "    plt.subplot(1, 2, 2)\n",
    "    plt.plot(epochs, train_accuracies, label='Train Accuracy')\n",
    "    plt.plot(epochs, val_accuracies, label='Validation Accuracy')\n",
    "    plt.xlabel('Epoch')\n",
    "    plt.ylabel('Accuracy')\n",
    "    plt.title('Training and Validation Accuracy')\n",
    "    plt.legend()\n",
    "\n",
    "    plt.show()\n",
    "\n",
    "# Training function\n",
    "def train_model(model, optimizer, criterion, train_loader, val_loader, num_epochs, scheduler=None):\n",
    "    model.to(device)\n",
    "    best_val_loss = float('inf')\n",
    "    epochs_without_improvement = 0\n",
    "\n",
    "    # Lists to store training/validation loss and accuracy for each epoch\n",
    "    train_losses = []\n",
    "    val_losses = []\n",
    "    train_accuracies = []\n",
    "    val_accuracies = []\n",
    "\n",
    "    for epoch in range(num_epochs):\n",
    "        # Training phase\n",
    "        model.train()\n",
    "        train_loss = 0\n",
    "        correct = 0\n",
    "        total = 0\n",
    "        for batch_idx, (data, targets) in enumerate(tqdm(train_loader)):\n",
    "            data, targets = data.to(device), targets.to(device)\n",
    "\n",
    "            # Forward pass\n",
    "            outputs = model(data)\n",
    "            loss = criterion(outputs, targets)\n",
    "            train_loss += loss.item()\n",
    "\n",
    "            # Backward pass and optimize\n",
    "            optimizer.zero_grad()\n",
    "            loss.backward()\n",
    "            optimizer.step()\n",
    "\n",
    "            # Calculate accuracy\n",
    "            _, predicted = outputs.max(1)\n",
    "            total += targets.size(0)\n",
    "            correct += predicted.eq(targets).sum().item()\n",
    "\n",
    "        train_accuracy = 100. * correct / total\n",
    "        train_losses.append(train_loss / len(train_loader))\n",
    "        train_accuracies.append(train_accuracy)\n",
    "\n",
    "        # Validation phase\n",
    "        model.eval()\n",
    "        val_loss = 0\n",
    "        correct = 0\n",
    "        total = 0\n",
    "        with torch.no_grad():\n",
    "            for batch_idx, (data, targets) in enumerate(val_loader):\n",
    "                data, targets = data.to(device), targets.to(device)\n",
    "                outputs = model(data)\n",
    "                loss = criterion(outputs, targets)\n",
    "                val_loss += loss.item()\n",
    "\n",
    "                _, predicted = outputs.max(1)\n",
    "                total += targets.size(0)\n",
    "                correct += predicted.eq(targets).sum().item()\n",
    "\n",
    "        val_loss /= len(val_loader)\n",
    "        val_accuracy = 100. * correct / total\n",
    "        val_losses.append(val_loss)\n",
    "        val_accuracies.append(val_accuracy)\n",
    "\n",
    "        # Check for improvement & save the model\n",
    "        if val_loss < best_val_loss:\n",
    "            best_val_loss = val_loss\n",
    "            epochs_without_improvement = 0\n",
    "            torch.save(model.state_dict(), '/content/drive/MyDrive/DLassignment2/models/resnet18_best.pth')\n",
    "            print(f\"New best model saved at epoch {epoch+1} with validation loss {val_loss:.4f}\")\n",
    "        else:\n",
    "            epochs_without_improvement += 1\n",
    "\n",
    "        # Early stopping condition\n",
    "        if epochs_without_improvement >= patience:\n",
    "            print(f\"Early stopping at epoch {epoch+1} with best validation loss {best_val_loss:.4f}\")\n",
    "            break\n",
    "\n",
    "        print(f'Epoch [{epoch+1}/{num_epochs}], Train Loss: {train_losses[-1]:.4f}, '\n",
    "              f'Train Acc: {train_accuracies[-1]:.2f}, Val Loss: {val_losses[-1]:.4f}, '\n",
    "              f'Val Acc: {val_accuracies[-1]:.2f}')\n",
    "\n",
    "\n",
    "        # Step the scheduler\n",
    "        if scheduler:\n",
    "            scheduler.step()\n",
    "\n",
    "    # Plotting the training and validation metrics\n",
    "    plot_metrics(train_losses, val_losses, train_accuracies, val_accuracies)\n",
    "\n",
    "\n",
    "\n"
   ]
  },
  {
   "cell_type": "code",
   "execution_count": 32,
   "id": "424b2a50-db2e-4f64-93f8-a88275f2d15d",
   "metadata": {
    "colab": {
     "base_uri": "https://localhost:8080/",
     "height": 1000
    },
    "executionInfo": {
     "elapsed": 981339,
     "status": "ok",
     "timestamp": 1730706716961,
     "user": {
      "displayName": "George Yang",
      "userId": "04337997738831410077"
     },
     "user_tz": -630
    },
    "id": "424b2a50-db2e-4f64-93f8-a88275f2d15d",
    "outputId": "9c20a7fc-0b6d-4808-fcbb-31c65e860f2b"
   },
   "outputs": [
    {
     "name": "stdout",
     "output_type": "stream",
     "text": [
      "\n",
      "Training model with Adam optimizer and weight decay 0.001\n"
     ]
    },
    {
     "name": "stderr",
     "output_type": "stream",
     "text": [
      "100%|██████████| 625/625 [00:32<00:00, 19.33it/s]\n"
     ]
    },
    {
     "name": "stdout",
     "output_type": "stream",
     "text": [
      "New best model saved at epoch 1 with validation loss 1.4112\n",
      "Epoch [1/50], Train Loss: 1.6118, Train Acc: 41.26, Val Loss: 1.4112, Val Acc: 49.05\n"
     ]
    },
    {
     "name": "stderr",
     "output_type": "stream",
     "text": [
      "100%|██████████| 625/625 [00:32<00:00, 19.50it/s]\n"
     ]
    },
    {
     "name": "stdout",
     "output_type": "stream",
     "text": [
      "New best model saved at epoch 2 with validation loss 1.2771\n",
      "Epoch [2/50], Train Loss: 1.2832, Train Acc: 54.20, Val Loss: 1.2771, Val Acc: 53.38\n"
     ]
    },
    {
     "name": "stderr",
     "output_type": "stream",
     "text": [
      "100%|██████████| 625/625 [00:31<00:00, 19.59it/s]\n"
     ]
    },
    {
     "name": "stdout",
     "output_type": "stream",
     "text": [
      "New best model saved at epoch 3 with validation loss 1.1232\n",
      "Epoch [3/50], Train Loss: 1.1471, Train Acc: 59.59, Val Loss: 1.1232, Val Acc: 60.97\n"
     ]
    },
    {
     "name": "stderr",
     "output_type": "stream",
     "text": [
      "100%|██████████| 625/625 [00:31<00:00, 19.65it/s]\n"
     ]
    },
    {
     "name": "stdout",
     "output_type": "stream",
     "text": [
      "New best model saved at epoch 4 with validation loss 1.1022\n",
      "Epoch [4/50], Train Loss: 1.0629, Train Acc: 62.97, Val Loss: 1.1022, Val Acc: 61.44\n"
     ]
    },
    {
     "name": "stderr",
     "output_type": "stream",
     "text": [
      "100%|██████████| 625/625 [00:32<00:00, 18.95it/s]\n"
     ]
    },
    {
     "name": "stdout",
     "output_type": "stream",
     "text": [
      "New best model saved at epoch 5 with validation loss 1.0057\n",
      "Epoch [5/50], Train Loss: 0.9936, Train Acc: 65.51, Val Loss: 1.0057, Val Acc: 65.04\n"
     ]
    },
    {
     "name": "stderr",
     "output_type": "stream",
     "text": [
      "100%|██████████| 625/625 [00:32<00:00, 19.11it/s]\n"
     ]
    },
    {
     "name": "stdout",
     "output_type": "stream",
     "text": [
      "Epoch [6/50], Train Loss: 0.9419, Train Acc: 67.22, Val Loss: 1.0114, Val Acc: 64.75\n"
     ]
    },
    {
     "name": "stderr",
     "output_type": "stream",
     "text": [
      "100%|██████████| 625/625 [00:31<00:00, 19.72it/s]\n"
     ]
    },
    {
     "name": "stdout",
     "output_type": "stream",
     "text": [
      "New best model saved at epoch 7 with validation loss 0.9028\n",
      "Epoch [7/50], Train Loss: 0.9002, Train Acc: 68.84, Val Loss: 0.9028, Val Acc: 68.62\n"
     ]
    },
    {
     "name": "stderr",
     "output_type": "stream",
     "text": [
      "100%|██████████| 625/625 [00:31<00:00, 19.58it/s]\n"
     ]
    },
    {
     "name": "stdout",
     "output_type": "stream",
     "text": [
      "New best model saved at epoch 8 with validation loss 0.8808\n",
      "Epoch [8/50], Train Loss: 0.8605, Train Acc: 70.31, Val Loss: 0.8808, Val Acc: 69.12\n"
     ]
    },
    {
     "name": "stderr",
     "output_type": "stream",
     "text": [
      "100%|██████████| 625/625 [00:31<00:00, 19.57it/s]\n"
     ]
    },
    {
     "name": "stdout",
     "output_type": "stream",
     "text": [
      "New best model saved at epoch 9 with validation loss 0.8371\n",
      "Epoch [9/50], Train Loss: 0.8336, Train Acc: 71.36, Val Loss: 0.8371, Val Acc: 70.96\n"
     ]
    },
    {
     "name": "stderr",
     "output_type": "stream",
     "text": [
      "100%|██████████| 625/625 [00:33<00:00, 18.85it/s]\n"
     ]
    },
    {
     "name": "stdout",
     "output_type": "stream",
     "text": [
      "Epoch [10/50], Train Loss: 0.7998, Train Acc: 72.43, Val Loss: 0.8540, Val Acc: 70.55\n"
     ]
    },
    {
     "name": "stderr",
     "output_type": "stream",
     "text": [
      "100%|██████████| 625/625 [00:32<00:00, 18.97it/s]\n"
     ]
    },
    {
     "name": "stdout",
     "output_type": "stream",
     "text": [
      "New best model saved at epoch 11 with validation loss 0.7856\n",
      "Epoch [11/50], Train Loss: 0.7895, Train Acc: 72.93, Val Loss: 0.7856, Val Acc: 72.71\n"
     ]
    },
    {
     "name": "stderr",
     "output_type": "stream",
     "text": [
      "100%|██████████| 625/625 [00:32<00:00, 19.29it/s]\n"
     ]
    },
    {
     "name": "stdout",
     "output_type": "stream",
     "text": [
      "New best model saved at epoch 12 with validation loss 0.7608\n",
      "Epoch [12/50], Train Loss: 0.7647, Train Acc: 73.83, Val Loss: 0.7608, Val Acc: 73.49\n"
     ]
    },
    {
     "name": "stderr",
     "output_type": "stream",
     "text": [
      "100%|██████████| 625/625 [00:32<00:00, 19.31it/s]\n"
     ]
    },
    {
     "name": "stdout",
     "output_type": "stream",
     "text": [
      "Epoch [13/50], Train Loss: 0.7512, Train Acc: 74.34, Val Loss: 0.7735, Val Acc: 72.89\n"
     ]
    },
    {
     "name": "stderr",
     "output_type": "stream",
     "text": [
      "100%|██████████| 625/625 [00:31<00:00, 19.57it/s]\n"
     ]
    },
    {
     "name": "stdout",
     "output_type": "stream",
     "text": [
      "Epoch [14/50], Train Loss: 0.7390, Train Acc: 74.72, Val Loss: 0.7916, Val Acc: 72.24\n"
     ]
    },
    {
     "name": "stderr",
     "output_type": "stream",
     "text": [
      "100%|██████████| 625/625 [00:32<00:00, 19.26it/s]\n"
     ]
    },
    {
     "name": "stdout",
     "output_type": "stream",
     "text": [
      "Epoch [15/50], Train Loss: 0.7285, Train Acc: 75.16, Val Loss: 0.7799, Val Acc: 73.10\n"
     ]
    },
    {
     "name": "stderr",
     "output_type": "stream",
     "text": [
      "100%|██████████| 625/625 [00:32<00:00, 18.96it/s]\n"
     ]
    },
    {
     "name": "stdout",
     "output_type": "stream",
     "text": [
      "New best model saved at epoch 16 with validation loss 0.7373\n",
      "Epoch [16/50], Train Loss: 0.7091, Train Acc: 75.80, Val Loss: 0.7373, Val Acc: 74.70\n"
     ]
    },
    {
     "name": "stderr",
     "output_type": "stream",
     "text": [
      "100%|██████████| 625/625 [00:33<00:00, 18.74it/s]\n"
     ]
    },
    {
     "name": "stdout",
     "output_type": "stream",
     "text": [
      "Epoch [17/50], Train Loss: 0.7082, Train Acc: 75.94, Val Loss: 0.7612, Val Acc: 74.18\n"
     ]
    },
    {
     "name": "stderr",
     "output_type": "stream",
     "text": [
      "100%|██████████| 625/625 [00:32<00:00, 19.19it/s]\n"
     ]
    },
    {
     "name": "stdout",
     "output_type": "stream",
     "text": [
      "New best model saved at epoch 18 with validation loss 0.7200\n",
      "Epoch [18/50], Train Loss: 0.6987, Train Acc: 76.18, Val Loss: 0.7200, Val Acc: 75.29\n"
     ]
    },
    {
     "name": "stderr",
     "output_type": "stream",
     "text": [
      "100%|██████████| 625/625 [00:32<00:00, 19.21it/s]\n"
     ]
    },
    {
     "name": "stdout",
     "output_type": "stream",
     "text": [
      "New best model saved at epoch 19 with validation loss 0.6913\n",
      "Epoch [19/50], Train Loss: 0.6893, Train Acc: 76.39, Val Loss: 0.6913, Val Acc: 76.39\n"
     ]
    },
    {
     "name": "stderr",
     "output_type": "stream",
     "text": [
      "100%|██████████| 625/625 [00:32<00:00, 19.33it/s]\n"
     ]
    },
    {
     "name": "stdout",
     "output_type": "stream",
     "text": [
      "Epoch [20/50], Train Loss: 0.6810, Train Acc: 76.73, Val Loss: 0.7169, Val Acc: 75.39\n"
     ]
    },
    {
     "name": "stderr",
     "output_type": "stream",
     "text": [
      "100%|██████████| 625/625 [00:32<00:00, 19.31it/s]\n"
     ]
    },
    {
     "name": "stdout",
     "output_type": "stream",
     "text": [
      "New best model saved at epoch 21 with validation loss 0.6630\n",
      "Epoch [21/50], Train Loss: 0.6367, Train Acc: 78.22, Val Loss: 0.6630, Val Acc: 77.03\n"
     ]
    },
    {
     "name": "stderr",
     "output_type": "stream",
     "text": [
      "100%|██████████| 625/625 [00:33<00:00, 18.69it/s]\n"
     ]
    },
    {
     "name": "stdout",
     "output_type": "stream",
     "text": [
      "Epoch [22/50], Train Loss: 0.6274, Train Acc: 78.66, Val Loss: 0.6633, Val Acc: 77.24\n"
     ]
    },
    {
     "name": "stderr",
     "output_type": "stream",
     "text": [
      "100%|██████████| 625/625 [00:33<00:00, 18.93it/s]\n"
     ]
    },
    {
     "name": "stdout",
     "output_type": "stream",
     "text": [
      "Epoch [23/50], Train Loss: 0.6228, Train Acc: 78.62, Val Loss: 0.6641, Val Acc: 76.78\n"
     ]
    },
    {
     "name": "stderr",
     "output_type": "stream",
     "text": [
      "100%|██████████| 625/625 [00:32<00:00, 19.50it/s]\n"
     ]
    },
    {
     "name": "stdout",
     "output_type": "stream",
     "text": [
      "Epoch [24/50], Train Loss: 0.6156, Train Acc: 79.08, Val Loss: 0.6910, Val Acc: 76.00\n"
     ]
    },
    {
     "name": "stderr",
     "output_type": "stream",
     "text": [
      "100%|██████████| 625/625 [00:32<00:00, 19.42it/s]\n"
     ]
    },
    {
     "name": "stdout",
     "output_type": "stream",
     "text": [
      "Epoch [25/50], Train Loss: 0.6129, Train Acc: 78.91, Val Loss: 0.6893, Val Acc: 76.24\n"
     ]
    },
    {
     "name": "stderr",
     "output_type": "stream",
     "text": [
      "100%|██████████| 625/625 [00:31<00:00, 19.60it/s]\n"
     ]
    },
    {
     "name": "stdout",
     "output_type": "stream",
     "text": [
      "Early stopping at epoch 26 with best validation loss 0.6630\n"
     ]
    },
    {
     "data": {
      "image/png": "[encoded data removed]",
      "text/plain": [
       "<Figure size 1200x500 with 2 Axes>"
      ]
     },
     "metadata": {},
     "output_type": "display_data"
    }
   ],
   "source": [
    "# Main training loop over optimizers and weight decay options, use learning rate scheduler to change learning rate in training\n",
    "for optimizer_name in optimizers:\n",
    "    for wd in weight_decay_options:\n",
    "        print(f\"\\nTraining model with {optimizer_name} optimizer and weight decay {wd}\")\n",
    "        model = models.resnet18(num_classes=10)\n",
    "        # Define optimizer\n",
    "        if optimizer_name == 'SGD':\n",
    "            optimizer = optim.SGD(model.parameters(), lr=learning_rate, momentum=0.9, weight_decay=wd)\n",
    "            scheduler = optim.lr_scheduler.StepLR(optimizer, step_size=20, gamma=0.9)\n",
    "        elif optimizer_name == 'Adam':\n",
    "            optimizer = optim.Adam(model.parameters(), lr=0.001, weight_decay=wd)\n",
    "            scheduler = optim.lr_scheduler.StepLR(optimizer, step_size=20, gamma=0.8)\n",
    "\n",
    "        # Loss function\n",
    "        criterion = nn.CrossEntropyLoss()\n",
    "\n",
    "        # Train and validate the model\n",
    "        train_model(model, optimizer, criterion, train_loader, val_loader, num_epochs, scheduler)\n",
    "\n"
   ]
  },
  {
   "cell_type": "code",
   "execution_count": 33,
   "id": "9fd0672d-a8bd-4cfb-bfdb-944fd06bedca",
   "metadata": {
    "colab": {
     "base_uri": "https://localhost:8080/"
    },
    "executionInfo": {
     "elapsed": 4309,
     "status": "ok",
     "timestamp": 1730706770493,
     "user": {
      "displayName": "George Yang",
      "userId": "04337997738831410077"
     },
     "user_tz": -630
    },
    "id": "9fd0672d-a8bd-4cfb-bfdb-944fd06bedca",
    "outputId": "61100d0d-eaaa-4af0-87ca-2d9203702ad4"
   },
   "outputs": [
    {
     "name": "stderr",
     "output_type": "stream",
     "text": [
      "<ipython-input-33-c3279aa1cf75>:4: FutureWarning: You are using `torch.load` with `weights_only=False` (the current default value), which uses the default pickle module implicitly. It is possible to construct malicious pickle data which will execute arbitrary code during unpickling (See https://github.com/pytorch/pytorch/blob/main/SECURITY.md#untrusted-models for more details). In a future release, the default value for `weights_only` will be flipped to `True`. This limits the functions that could be executed during unpickling. Arbitrary objects will no longer be allowed to be loaded via this mode unless they are explicitly allowlisted by the user via `torch.serialization.add_safe_globals`. We recommend you start setting `weights_only=True` for any use case where you don't have full control of the loaded file. Please open an issue on GitHub for any issues related to this experimental feature.\n",
      "  model.load_state_dict(torch.load(model_path))\n"
     ]
    },
    {
     "name": "stdout",
     "output_type": "stream",
     "text": [
      "Test Accuracy: 77.83%\n"
     ]
    }
   ],
   "source": [
    "# Testing model\n",
    "def test_model(model_path, test_loader):\n",
    "    model = models.resnet18(num_classes=10)\n",
    "    model.load_state_dict(torch.load(model_path))\n",
    "    model.to(device)\n",
    "    model.eval()\n",
    "\n",
    "    correct = 0\n",
    "    total = 0\n",
    "    with torch.no_grad():\n",
    "        for data, targets in test_loader:\n",
    "            data, targets = data.to(device), targets.to(device)\n",
    "            outputs = model(data)\n",
    "            _, predicted = outputs.max(1)\n",
    "            total += targets.size(0)\n",
    "            correct += predicted.eq(targets).sum().item()\n",
    "\n",
    "    print(f'Test Accuracy: {100. * correct / total:.2f}%')\n",
    "\n",
    "test_model('/content/drive/MyDrive/DLassignment2/models/resnet18_best.pth', test_loader)"
   ]
  },
  {
   "cell_type": "code",
   "execution_count": null,
   "id": "50752205-b6a2-4794-b563-3acbf41440c9",
   "metadata": {
    "id": "50752205-b6a2-4794-b563-3acbf41440c9"
   },
   "outputs": [],
   "source": []
  },
  {
   "cell_type": "code",
   "execution_count": null,
   "id": "acbb1238-a24b-4524-92e7-d6163554898e",
   "metadata": {
    "id": "acbb1238-a24b-4524-92e7-d6163554898e"
   },
   "outputs": [],
   "source": []
  },
  {
   "cell_type": "code",
   "execution_count": null,
   "id": "a71e93f4-95d4-4438-9847-fcf9977e3885",
   "metadata": {
    "id": "a71e93f4-95d4-4438-9847-fcf9977e3885"
   },
   "outputs": [],
   "source": []
  },
  {
   "cell_type": "code",
   "execution_count": null,
   "id": "9783c43e-7f10-4448-9c66-6385351ab76d",
   "metadata": {
    "id": "9783c43e-7f10-4448-9c66-6385351ab76d"
   },
   "outputs": [],
   "source": []
  }
 ],
 "metadata": {
  "accelerator": "GPU",
  "colab": {
   "gpuType": "T4",
   "provenance": []
  },
  "kernelspec": {
   "display_name": "Python 3 (ipykernel)",
   "language": "python",
   "name": "python3"
  },
  "language_info": {
   "codemirror_mode": {
    "name": "ipython",
    "version": 3
   },
   "file_extension": ".py",
   "mimetype": "text/x-python",
   "name": "python",
   "nbconvert_exporter": "python",
   "pygments_lexer": "ipython3",
   "version": "3.11.9"
  }
 },
 "nbformat": 4,
 "nbformat_minor": 5
}
