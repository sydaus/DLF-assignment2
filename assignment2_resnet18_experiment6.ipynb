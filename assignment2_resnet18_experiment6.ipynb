{
 "cells": [
  {
   "cell_type": "code",
   "execution_count": 1,
   "id": "cc03f58a-0c43-4af2-8cdc-b18d174950a1",
   "metadata": {
    "colab": {
     "base_uri": "https://localhost:8080/"
    },
    "executionInfo": {
     "elapsed": 40323,
     "status": "ok",
     "timestamp": 1730925429304,
     "user": {
      "displayName": "George Yang",
      "userId": "04337997738831410077"
     },
     "user_tz": -630
    },
    "id": "cc03f58a-0c43-4af2-8cdc-b18d174950a1",
    "outputId": "2b5e0aeb-ad94-4eb3-9d14-5f4a94355422"
   },
   "outputs": [
    {
     "name": "stdout",
     "output_type": "stream",
     "text": [
      "Mounted at /content/drive\n"
     ]
    }
   ],
   "source": [
    "import torch\n",
    "import torch.nn as nn\n",
    "import torch.optim as optim\n",
    "import torchvision.transforms as transforms\n",
    "import torchvision.datasets as datasets\n",
    "from torchvision import models\n",
    "from torch.utils.data import DataLoader, random_split\n",
    "from tqdm import tqdm\n",
    "import matplotlib.pyplot as plt\n",
    "import os\n",
    "\n",
    "# Set device\n",
    "device = torch.device(\"cuda\" if torch.cuda.is_available() else \"cpu\")\n",
    "\n",
    "from google.colab import drive\n",
    "drive.mount('/content/drive')\n",
    "os.makedirs(\"/content/drive/MyDrive/DLassignment2/models\", exist_ok=True)"
   ]
  },
  {
   "cell_type": "code",
   "execution_count": 2,
   "id": "cbc77ed1-0e10-4aed-b7d8-b0af1528d4be",
   "metadata": {
    "executionInfo": {
     "elapsed": 408,
     "status": "ok",
     "timestamp": 1730925435630,
     "user": {
      "displayName": "George Yang",
      "userId": "04337997738831410077"
     },
     "user_tz": -630
    },
    "id": "cbc77ed1-0e10-4aed-b7d8-b0af1528d4be"
   },
   "outputs": [],
   "source": [
    "# Hyperparameters\n",
    "num_epochs = 100\n",
    "batch_size = 64\n",
    "learning_rate = 0.1\n",
    "#weight_decay_options = [1e-4, 5e-4]\n",
    "weight_decay_options = [5e-4]\n",
    "#optimizers = ['SGD', 'Adam']\n",
    "optimizers = ['Adam']\n",
    "patience = 5\n"
   ]
  },
  {
   "cell_type": "code",
   "execution_count": 3,
   "id": "9f688bf9-e826-44bb-aa58-33ea0e5f5700",
   "metadata": {
    "executionInfo": {
     "elapsed": 1288,
     "status": "ok",
     "timestamp": 1730925443433,
     "user": {
      "displayName": "George Yang",
      "userId": "04337997738831410077"
     },
     "user_tz": -630
    },
    "id": "9f688bf9-e826-44bb-aa58-33ea0e5f5700"
   },
   "outputs": [],
   "source": [
    "# Data transforms\n",
    "transform_train = transforms.Compose([\n",
    "    #transforms.Resize((224,224)),\n",
    "    transforms.RandomHorizontalFlip(),\n",
    "    #transforms.RandomCrop(224, padding=4),\n",
    "    transforms.RandomCrop(32, padding=4),\n",
    "    transforms.RandomRotation(15),\n",
    "    transforms.ColorJitter(brightness=0.2, contrast=0.2, saturation=0.2, hue=0.1),\n",
    "    transforms.ToTensor(),\n",
    "    transforms.Normalize((0.4914, 0.4822, 0.4465), (0.247, 0.243, 0.261))\n",
    "])\n",
    "\n",
    "transform_test = transforms.Compose([\n",
    "    #transforms.Resize((224,224)),\n",
    "    transforms.ToTensor(),\n",
    "    transforms.Normalize((0.4914, 0.4822, 0.4465), (0.247, 0.243, 0.261))\n",
    "])\n"
   ]
  },
  {
   "cell_type": "code",
   "execution_count": 5,
   "id": "d4b85ca9-52e0-42ae-b555-f64a351abde5",
   "metadata": {
    "colab": {
     "base_uri": "https://localhost:8080/"
    },
    "executionInfo": {
     "elapsed": 1783,
     "status": "ok",
     "timestamp": 1730925498956,
     "user": {
      "displayName": "George Yang",
      "userId": "04337997738831410077"
     },
     "user_tz": -630
    },
    "id": "d4b85ca9-52e0-42ae-b555-f64a351abde5",
    "outputId": "31477e95-b6eb-4b72-e000-61c746ae6a82"
   },
   "outputs": [
    {
     "name": "stdout",
     "output_type": "stream",
     "text": [
      "Files already downloaded and verified\n",
      "Files already downloaded and verified\n"
     ]
    }
   ],
   "source": [
    "# Load dataset and split into train, val, and test sets\n",
    "train_dataset = datasets.CIFAR10(root='/content/data', train=True, transform=transform_train, download=True)\n",
    "test_dataset = datasets.CIFAR10(root='/content/data', train=False, transform=transform_test, download=True)\n",
    "\n",
    "seed_value = 42\n",
    "torch.manual_seed(seed_value)\n",
    "train_size = int(0.8 * len(train_dataset))\n",
    "val_size = len(train_dataset) - train_size\n",
    "train_data, val_data = random_split(train_dataset, [train_size, val_size])\n",
    "\n",
    "train_loader = DataLoader(train_data, batch_size=batch_size, shuffle=True)\n",
    "val_loader = DataLoader(val_data, batch_size=batch_size, shuffle=False)\n",
    "\n",
    "test_loader = DataLoader(test_dataset, batch_size=batch_size, shuffle=False)"
   ]
  },
  {
   "cell_type": "code",
   "execution_count": null,
   "id": "XQMT8Kj4jzDT",
   "metadata": {
    "colab": {
     "base_uri": "https://localhost:8080/"
    },
    "executionInfo": {
     "elapsed": 353,
     "status": "ok",
     "timestamp": 1730895931158,
     "user": {
      "displayName": "George Yang",
      "userId": "04337997738831410077"
     },
     "user_tz": -630
    },
    "id": "XQMT8Kj4jzDT",
    "outputId": "4917e4a8-d587-4086-d90d-80b9fbaad561"
   },
   "outputs": [
    {
     "name": "stdout",
     "output_type": "stream",
     "text": [
      "torch.Size([64, 3, 32, 32])\n"
     ]
    }
   ],
   "source": [
    "for data, _ in train_loader:\n",
    "    print(data.shape)\n",
    "    break"
   ]
  },
  {
   "cell_type": "code",
   "execution_count": 6,
   "id": "4705c57f-a7f0-46b3-acab-4ac1ffc91e51",
   "metadata": {
    "executionInfo": {
     "elapsed": 363,
     "status": "ok",
     "timestamp": 1730925506176,
     "user": {
      "displayName": "George Yang",
      "userId": "04337997738831410077"
     },
     "user_tz": -630
    },
    "id": "4705c57f-a7f0-46b3-acab-4ac1ffc91e51"
   },
   "outputs": [],
   "source": [
    "\n",
    "# Function to plot training and validation metrics\n",
    "def plot_metrics(train_losses, val_losses, train_accuracies, val_accuracies):\n",
    "    epochs = range(1, len(train_losses) + 1)\n",
    "\n",
    "    # Plot loss\n",
    "    plt.figure(figsize=(12, 5))\n",
    "    plt.subplot(1, 2, 1)\n",
    "    plt.plot(epochs, train_losses, label='Train Loss')\n",
    "    plt.plot(epochs, val_losses, label='Validation Loss')\n",
    "    plt.xlabel('Epoch')\n",
    "    plt.ylabel('Loss')\n",
    "    plt.title('Training and Validation Loss')\n",
    "    plt.legend()\n",
    "\n",
    "    # Plot accuracy\n",
    "    plt.subplot(1, 2, 2)\n",
    "    plt.plot(epochs, train_accuracies, label='Train Accuracy')\n",
    "    plt.plot(epochs, val_accuracies, label='Validation Accuracy')\n",
    "    plt.xlabel('Epoch')\n",
    "    plt.ylabel('Accuracy')\n",
    "    plt.title('Training and Validation Accuracy')\n",
    "    plt.legend()\n",
    "\n",
    "    plt.show()\n",
    "\n",
    "\n",
    "\n",
    "\n",
    "# Training function\n",
    "def train_model(model, optimizer, criterion, train_loader, val_loader, num_epochs, scheduler=None):\n",
    "    model.to(device)\n",
    "    best_val_loss = float('inf')\n",
    "    epochs_without_improvement = 0\n",
    "\n",
    "    # Load checkpoint if available\n",
    "    checkpoint_path = '/content/drive/MyDrive/DLassignment2/models/resnet18_best.pth'\n",
    "    start_epoch = 0\n",
    "    if os.path.isfile(checkpoint_path):\n",
    "        print(\"Loading checkpoint...\")\n",
    "        model.load_state_dict(torch.load(checkpoint_path))\n",
    "\n",
    "    # Lists to store training/validation loss and accuracy for each epoch\n",
    "    train_losses = []\n",
    "    val_losses = []\n",
    "    train_accuracies = []\n",
    "    val_accuracies = []\n",
    "\n",
    "    for epoch in range(start_epoch, num_epochs):\n",
    "        # Training phase\n",
    "        model.train()\n",
    "        train_loss = 0\n",
    "        correct = 0\n",
    "        total = 0\n",
    "        for batch_idx, (data, targets) in enumerate(tqdm(train_loader)):\n",
    "            data, targets = data.to(device), targets.to(device)\n",
    "\n",
    "            # Forward pass\n",
    "            outputs = model(data)\n",
    "            loss = criterion(outputs, targets)\n",
    "            train_loss += loss.item()\n",
    "\n",
    "            # Backward pass and optimize\n",
    "            optimizer.zero_grad()\n",
    "            loss.backward()\n",
    "            optimizer.step()\n",
    "\n",
    "            # Calculate accuracy\n",
    "            _, predicted = outputs.max(1)\n",
    "            total += targets.size(0)\n",
    "            correct += predicted.eq(targets).sum().item()\n",
    "\n",
    "        train_accuracy = 100. * correct / total\n",
    "        train_losses.append(train_loss / len(train_loader))\n",
    "        train_accuracies.append(train_accuracy)\n",
    "\n",
    "        # Validation phase\n",
    "        model.eval()\n",
    "        val_loss = 0\n",
    "        correct = 0\n",
    "        total = 0\n",
    "        with torch.no_grad():\n",
    "            for batch_idx, (data, targets) in enumerate(val_loader):\n",
    "                data, targets = data.to(device), targets.to(device)\n",
    "                outputs = model(data)\n",
    "                loss = criterion(outputs, targets)\n",
    "                val_loss += loss.item()\n",
    "\n",
    "                _, predicted = outputs.max(1)\n",
    "                total += targets.size(0)\n",
    "                correct += predicted.eq(targets).sum().item()\n",
    "\n",
    "        val_loss /= len(val_loader)\n",
    "        val_accuracy = 100. * correct / total\n",
    "        val_losses.append(val_loss)\n",
    "        val_accuracies.append(val_accuracy)\n",
    "\n",
    "        # Check for improvement & save the model\n",
    "        if val_loss < best_val_loss:\n",
    "            best_val_loss = val_loss\n",
    "            epochs_without_improvement = 0\n",
    "            torch.save(model.state_dict(), '/content/drive/MyDrive/DLassignment2/models/resnet18_best.pth')\n",
    "            print(f\"New best model saved at epoch {epoch+1} with validation loss {val_loss:.4f}\")\n",
    "        else:\n",
    "            epochs_without_improvement += 1\n",
    "\n",
    "        # Early stopping condition\n",
    "        if epochs_without_improvement >= patience:\n",
    "            print(f\"Early stopping at epoch {epoch+1} with best validation loss {best_val_loss:.4f}\")\n",
    "            break\n",
    "\n",
    "        print(f'Epoch [{epoch+1}/{num_epochs}], Train Loss: {train_losses[-1]:.4f}, '\n",
    "              f'Train Acc: {train_accuracies[-1]:.2f}, Val Loss: {val_losses[-1]:.4f}, '\n",
    "              f'Val Acc: {val_accuracies[-1]:.2f}')\n",
    "\n",
    "\n",
    "        # Step the scheduler\n",
    "        if scheduler:\n",
    "            scheduler.step(val_loss)\n",
    "\n",
    "    # Plotting the training and validation metrics\n",
    "    plot_metrics(train_losses, val_losses, train_accuracies, val_accuracies)\n",
    "    print(f\"train_loss: {train_losses}\")\n",
    "    print(f\"val_loss: {val_losses}\")\n",
    "    print(f\"train_acc: {train_accuracies}\")\n",
    "    print(f\"val_acc: {val_accuracies}\")\n",
    "\n",
    "\n",
    "\n"
   ]
  },
  {
   "cell_type": "code",
   "execution_count": 9,
   "id": "424b2a50-db2e-4f64-93f8-a88275f2d15d",
   "metadata": {
    "colab": {
     "base_uri": "https://localhost:8080/",
     "height": 1000
    },
    "executionInfo": {
     "elapsed": 238114,
     "status": "ok",
     "timestamp": 1730928681266,
     "user": {
      "displayName": "George Yang",
      "userId": "04337997738831410077"
     },
     "user_tz": -630
    },
    "id": "424b2a50-db2e-4f64-93f8-a88275f2d15d",
    "outputId": "dd9b3ae4-0992-4064-ede3-30e5d5aa479b"
   },
   "outputs": [
    {
     "metadata": {
      "tags": null
     },
     "name": "stdout",
     "output_type": "stream",
     "text": [
      "\n",
      "Training model with Adam optimizer and weight decay 0.0005\n"
     ]
    },
    {
     "metadata": {
      "tags": null
     },
     "name": "stderr",
     "output_type": "stream",
     "text": [
      "100%|██████████| 625/625 [01:08<00:00,  9.08it/s]\n"
     ]
    },
    {
     "metadata": {
      "tags": null
     },
     "name": "stdout",
     "output_type": "stream",
     "text": [
      "New best model saved at epoch 1 with validation loss 1.6629\n",
      "Epoch [1/100], Train Loss: 1.6965, Train Acc: 38.01, Val Loss: 1.6629, Val Acc: 42.45\n"
     ]
    },
    {
     "metadata": {
      "tags": null
     },
     "name": "stderr",
     "output_type": "stream",
     "text": [
      "100%|██████████| 625/625 [01:08<00:00,  9.11it/s]\n"
     ]
    },
    {
     "metadata": {
      "tags": null
     },
     "name": "stdout",
     "output_type": "stream",
     "text": [
      "New best model saved at epoch 2 with validation loss 1.4081\n",
      "Epoch [2/100], Train Loss: 1.4150, Train Acc: 49.26, Val Loss: 1.4081, Val Acc: 49.72\n"
     ]
    },
    {
     "metadata": {
      "tags": null
     },
     "name": "stderr",
     "output_type": "stream",
     "text": [
      "100%|██████████| 625/625 [01:09<00:00,  9.01it/s]\n"
     ]
    },
    {
     "metadata": {
      "tags": null
     },
     "name": "stdout",
     "output_type": "stream",
     "text": [
      "New best model saved at epoch 3 with validation loss 1.2417\n",
      "Epoch [3/100], Train Loss: 1.2731, Train Acc: 54.60, Val Loss: 1.2417, Val Acc: 56.58\n"
     ]
    },
    {
     "metadata": {
      "tags": null
     },
     "name": "stderr",
     "output_type": "stream",
     "text": [
      "100%|██████████| 625/625 [01:08<00:00,  9.18it/s]\n"
     ]
    },
    {
     "metadata": {
      "tags": null
     },
     "name": "stdout",
     "output_type": "stream",
     "text": [
      "New best model saved at epoch 4 with validation loss 1.2249\n",
      "Epoch [4/100], Train Loss: 1.1960, Train Acc: 58.04, Val Loss: 1.2249, Val Acc: 57.24\n"
     ]
    },
    {
     "metadata": {
      "tags": null
     },
     "name": "stderr",
     "output_type": "stream",
     "text": [
      "100%|██████████| 625/625 [01:07<00:00,  9.20it/s]\n"
     ]
    },
    {
     "metadata": {
      "tags": null
     },
     "name": "stdout",
     "output_type": "stream",
     "text": [
      "New best model saved at epoch 5 with validation loss 1.1520\n",
      "Epoch [5/100], Train Loss: 1.1321, Train Acc: 60.19, Val Loss: 1.1520, Val Acc: 60.26\n"
     ]
    },
    {
     "metadata": {
      "tags": null
     },
     "name": "stderr",
     "output_type": "stream",
     "text": [
      "100%|██████████| 625/625 [01:08<00:00,  9.17it/s]\n"
     ]
    },
    {
     "metadata": {
      "tags": null
     },
     "name": "stdout",
     "output_type": "stream",
     "text": [
      "New best model saved at epoch 6 with validation loss 1.0683\n",
      "Epoch [6/100], Train Loss: 1.0808, Train Acc: 62.47, Val Loss: 1.0683, Val Acc: 62.88\n"
     ]
    },
    {
     "metadata": {
      "tags": null
     },
     "name": "stderr",
     "output_type": "stream",
     "text": [
      "100%|██████████| 625/625 [01:16<00:00,  8.17it/s]\n"
     ]
    },
    {
     "metadata": {
      "tags": null
     },
     "name": "stdout",
     "output_type": "stream",
     "text": [
      "New best model saved at epoch 7 with validation loss 1.0618\n",
      "Epoch [7/100], Train Loss: 1.0333, Train Acc: 64.06, Val Loss: 1.0618, Val Acc: 62.57\n"
     ]
    },
    {
     "metadata": {
      "tags": null
     },
     "name": "stderr",
     "output_type": "stream",
     "text": [
      "100%|██████████| 625/625 [01:15<00:00,  8.24it/s]\n"
     ]
    },
    {
     "metadata": {
      "tags": null
     },
     "name": "stdout",
     "output_type": "stream",
     "text": [
      "New best model saved at epoch 8 with validation loss 0.9771\n",
      "Epoch [8/100], Train Loss: 1.0023, Train Acc: 65.14, Val Loss: 0.9771, Val Acc: 66.27\n"
     ]
    },
    {
     "metadata": {
      "tags": null
     },
     "name": "stderr",
     "output_type": "stream",
     "text": [
      "100%|██████████| 625/625 [01:08<00:00,  9.08it/s]\n"
     ]
    },
    {
     "metadata": {
      "tags": null
     },
     "name": "stdout",
     "output_type": "stream",
     "text": [
      "New best model saved at epoch 9 with validation loss 0.9698\n",
      "Epoch [9/100], Train Loss: 0.9656, Train Acc: 66.46, Val Loss: 0.9698, Val Acc: 66.14\n"
     ]
    },
    {
     "metadata": {
      "tags": null
     },
     "name": "stderr",
     "output_type": "stream",
     "text": [
      "100%|██████████| 625/625 [01:08<00:00,  9.15it/s]\n"
     ]
    },
    {
     "metadata": {
      "tags": null
     },
     "name": "stdout",
     "output_type": "stream",
     "text": [
      "New best model saved at epoch 10 with validation loss 0.9424\n",
      "Epoch [10/100], Train Loss: 0.9360, Train Acc: 67.75, Val Loss: 0.9424, Val Acc: 67.60\n"
     ]
    },
    {
     "metadata": {
      "tags": null
     },
     "name": "stderr",
     "output_type": "stream",
     "text": [
      "100%|██████████| 625/625 [01:09<00:00,  9.02it/s]\n"
     ]
    },
    {
     "metadata": {
      "tags": null
     },
     "name": "stdout",
     "output_type": "stream",
     "text": [
      "New best model saved at epoch 11 with validation loss 0.9114\n",
      "Epoch [11/100], Train Loss: 0.9169, Train Acc: 68.37, Val Loss: 0.9114, Val Acc: 68.43\n"
     ]
    },
    {
     "metadata": {
      "tags": null
     },
     "name": "stderr",
     "output_type": "stream",
     "text": [
      "100%|██████████| 625/625 [01:08<00:00,  9.16it/s]\n"
     ]
    },
    {
     "metadata": {
      "tags": null
     },
     "name": "stdout",
     "output_type": "stream",
     "text": [
      "Epoch [12/100], Train Loss: 0.9016, Train Acc: 68.85, Val Loss: 0.9523, Val Acc: 66.89\n"
     ]
    },
    {
     "metadata": {
      "tags": null
     },
     "name": "stderr",
     "output_type": "stream",
     "text": [
      "100%|██████████| 625/625 [01:08<00:00,  9.17it/s]\n"
     ]
    },
    {
     "metadata": {
      "tags": null
     },
     "name": "stdout",
     "output_type": "stream",
     "text": [
      "New best model saved at epoch 13 with validation loss 0.9028\n",
      "Epoch [13/100], Train Loss: 0.8774, Train Acc: 69.93, Val Loss: 0.9028, Val Acc: 68.24\n"
     ]
    },
    {
     "metadata": {
      "tags": null
     },
     "name": "stderr",
     "output_type": "stream",
     "text": [
      "100%|██████████| 625/625 [01:07<00:00,  9.22it/s]\n"
     ]
    },
    {
     "metadata": {
      "tags": null
     },
     "name": "stdout",
     "output_type": "stream",
     "text": [
      "New best model saved at epoch 14 with validation loss 0.8626\n",
      "Epoch [14/100], Train Loss: 0.8652, Train Acc: 70.08, Val Loss: 0.8626, Val Acc: 70.58\n"
     ]
    },
    {
     "metadata": {
      "tags": null
     },
     "name": "stderr",
     "output_type": "stream",
     "text": [
      "100%|██████████| 625/625 [01:08<00:00,  9.15it/s]\n"
     ]
    },
    {
     "metadata": {
      "tags": null
     },
     "name": "stdout",
     "output_type": "stream",
     "text": [
      "New best model saved at epoch 15 with validation loss 0.8567\n",
      "Epoch [15/100], Train Loss: 0.8510, Train Acc: 70.86, Val Loss: 0.8567, Val Acc: 69.95\n"
     ]
    },
    {
     "metadata": {
      "tags": null
     },
     "name": "stderr",
     "output_type": "stream",
     "text": [
      "100%|██████████| 625/625 [01:08<00:00,  9.17it/s]\n"
     ]
    },
    {
     "metadata": {
      "tags": null
     },
     "name": "stdout",
     "output_type": "stream",
     "text": [
      "Epoch [16/100], Train Loss: 0.8365, Train Acc: 71.08, Val Loss: 0.8979, Val Acc: 69.06\n"
     ]
    },
    {
     "metadata": {
      "tags": null
     },
     "name": "stderr",
     "output_type": "stream",
     "text": [
      "100%|██████████| 625/625 [01:07<00:00,  9.27it/s]\n"
     ]
    },
    {
     "metadata": {
      "tags": null
     },
     "name": "stdout",
     "output_type": "stream",
     "text": [
      "New best model saved at epoch 17 with validation loss 0.8353\n",
      "Epoch [17/100], Train Loss: 0.8286, Train Acc: 71.47, Val Loss: 0.8353, Val Acc: 70.94\n"
     ]
    },
    {
     "metadata": {
      "tags": null
     },
     "name": "stderr",
     "output_type": "stream",
     "text": [
      "100%|██████████| 625/625 [01:08<00:00,  9.14it/s]\n"
     ]
    },
    {
     "metadata": {
      "tags": null
     },
     "name": "stdout",
     "output_type": "stream",
     "text": [
      "Epoch [18/100], Train Loss: 0.8204, Train Acc: 71.74, Val Loss: 0.8524, Val Acc: 70.22\n"
     ]
    },
    {
     "metadata": {
      "tags": null
     },
     "name": "stderr",
     "output_type": "stream",
     "text": [
      "100%|██████████| 625/625 [01:07<00:00,  9.30it/s]\n"
     ]
    },
    {
     "metadata": {
      "tags": null
     },
     "name": "stdout",
     "output_type": "stream",
     "text": [
      "New best model saved at epoch 19 with validation loss 0.8350\n",
      "Epoch [19/100], Train Loss: 0.8109, Train Acc: 72.17, Val Loss: 0.8350, Val Acc: 71.29\n"
     ]
    },
    {
     "metadata": {
      "tags": null
     },
     "name": "stderr",
     "output_type": "stream",
     "text": [
      "100%|██████████| 625/625 [01:07<00:00,  9.23it/s]\n"
     ]
    },
    {
     "metadata": {
      "tags": null
     },
     "name": "stdout",
     "output_type": "stream",
     "text": [
      "New best model saved at epoch 20 with validation loss 0.8184\n",
      "Epoch [20/100], Train Loss: 0.7983, Train Acc: 72.51, Val Loss: 0.8184, Val Acc: 71.86\n"
     ]
    },
    {
     "metadata": {
      "tags": null
     },
     "name": "stderr",
     "output_type": "stream",
     "text": [
      "100%|██████████| 625/625 [01:07<00:00,  9.26it/s]\n"
     ]
    },
    {
     "metadata": {
      "tags": null
     },
     "name": "stdout",
     "output_type": "stream",
     "text": [
      "New best model saved at epoch 21 with validation loss 0.8043\n",
      "Epoch [21/100], Train Loss: 0.7894, Train Acc: 72.90, Val Loss: 0.8043, Val Acc: 72.68\n"
     ]
    },
    {
     "metadata": {
      "tags": null
     },
     "name": "stderr",
     "output_type": "stream",
     "text": [
      "100%|██████████| 625/625 [01:08<00:00,  9.18it/s]\n"
     ]
    },
    {
     "metadata": {
      "tags": null
     },
     "name": "stdout",
     "output_type": "stream",
     "text": [
      "Epoch [22/100], Train Loss: 0.7882, Train Acc: 73.12, Val Loss: 0.8519, Val Acc: 70.80\n"
     ]
    },
    {
     "metadata": {
      "tags": null
     },
     "name": "stderr",
     "output_type": "stream",
     "text": [
      "100%|██████████| 625/625 [01:06<00:00,  9.36it/s]\n"
     ]
    },
    {
     "metadata": {
      "tags": null
     },
     "name": "stdout",
     "output_type": "stream",
     "text": [
      "New best model saved at epoch 23 with validation loss 0.8003\n",
      "Epoch [23/100], Train Loss: 0.7813, Train Acc: 73.06, Val Loss: 0.8003, Val Acc: 72.24\n"
     ]
    },
    {
     "metadata": {
      "tags": null
     },
     "name": "stderr",
     "output_type": "stream",
     "text": [
      "100%|██████████| 625/625 [01:07<00:00,  9.30it/s]\n"
     ]
    },
    {
     "metadata": {
      "tags": null
     },
     "name": "stdout",
     "output_type": "stream",
     "text": [
      "Epoch [24/100], Train Loss: 0.7763, Train Acc: 73.43, Val Loss: 0.8442, Val Acc: 70.42\n"
     ]
    },
    {
     "metadata": {
      "tags": null
     },
     "name": "stderr",
     "output_type": "stream",
     "text": [
      "100%|██████████| 625/625 [01:06<00:00,  9.36it/s]\n"
     ]
    },
    {
     "metadata": {
      "tags": null
     },
     "name": "stdout",
     "output_type": "stream",
     "text": [
      "New best model saved at epoch 25 with validation loss 0.7877\n",
      "Epoch [25/100], Train Loss: 0.7674, Train Acc: 73.52, Val Loss: 0.7877, Val Acc: 72.75\n"
     ]
    },
    {
     "metadata": {
      "tags": null
     },
     "name": "stderr",
     "output_type": "stream",
     "text": [
      "100%|██████████| 625/625 [01:07<00:00,  9.20it/s]\n"
     ]
    },
    {
     "metadata": {
      "tags": null
     },
     "name": "stdout",
     "output_type": "stream",
     "text": [
      "New best model saved at epoch 26 with validation loss 0.7633\n",
      "Epoch [26/100], Train Loss: 0.7692, Train Acc: 73.69, Val Loss: 0.7633, Val Acc: 73.68\n"
     ]
    },
    {
     "metadata": {
      "tags": null
     },
     "name": "stderr",
     "output_type": "stream",
     "text": [
      "100%|██████████| 625/625 [01:07<00:00,  9.28it/s]\n"
     ]
    },
    {
     "metadata": {
      "tags": null
     },
     "name": "stdout",
     "output_type": "stream",
     "text": [
      "Epoch [27/100], Train Loss: 0.7640, Train Acc: 73.90, Val Loss: 0.8560, Val Acc: 70.37\n"
     ]
    },
    {
     "metadata": {
      "tags": null
     },
     "name": "stderr",
     "output_type": "stream",
     "text": [
      "100%|██████████| 625/625 [01:05<00:00,  9.52it/s]\n"
     ]
    },
    {
     "metadata": {
      "tags": null
     },
     "name": "stdout",
     "output_type": "stream",
     "text": [
      "Epoch [28/100], Train Loss: 0.7551, Train Acc: 73.95, Val Loss: 0.8041, Val Acc: 72.06\n"
     ]
    },
    {
     "metadata": {
      "tags": null
     },
     "name": "stderr",
     "output_type": "stream",
     "text": [
      "100%|██████████| 625/625 [01:05<00:00,  9.57it/s]\n"
     ]
    },
    {
     "metadata": {
      "tags": null
     },
     "name": "stdout",
     "output_type": "stream",
     "text": [
      "Epoch [29/100], Train Loss: 0.7505, Train Acc: 74.27, Val Loss: 0.7694, Val Acc: 73.38\n"
     ]
    },
    {
     "metadata": {
      "tags": null
     },
     "name": "stderr",
     "output_type": "stream",
     "text": [
      "100%|██████████| 625/625 [01:04<00:00,  9.62it/s]\n"
     ]
    },
    {
     "metadata": {
      "tags": null
     },
     "name": "stdout",
     "output_type": "stream",
     "text": [
      "Epoch [30/100], Train Loss: 0.7431, Train Acc: 74.72, Val Loss: 0.8069, Val Acc: 72.49\n"
     ]
    },
    {
     "metadata": {
      "tags": null
     },
     "name": "stderr",
     "output_type": "stream",
     "text": [
      "100%|██████████| 625/625 [01:05<00:00,  9.52it/s]\n"
     ]
    },
    {
     "metadata": {
      "tags": null
     },
     "name": "stdout",
     "output_type": "stream",
     "text": [
      "New best model saved at epoch 31 with validation loss 0.7364\n",
      "Epoch [31/100], Train Loss: 0.6960, Train Acc: 76.14, Val Loss: 0.7364, Val Acc: 74.38\n"
     ]
    },
    {
     "metadata": {
      "tags": null
     },
     "name": "stderr",
     "output_type": "stream",
     "text": [
      "100%|██████████| 625/625 [01:05<00:00,  9.53it/s]\n"
     ]
    },
    {
     "metadata": {
      "tags": null
     },
     "name": "stdout",
     "output_type": "stream",
     "text": [
      "Epoch [32/100], Train Loss: 0.6782, Train Acc: 76.94, Val Loss: 0.7452, Val Acc: 74.18\n"
     ]
    },
    {
     "metadata": {
      "tags": null
     },
     "name": "stderr",
     "output_type": "stream",
     "text": [
      "100%|██████████| 625/625 [01:06<00:00,  9.45it/s]\n"
     ]
    },
    {
     "metadata": {
      "tags": null
     },
     "name": "stdout",
     "output_type": "stream",
     "text": [
      "New best model saved at epoch 33 with validation loss 0.6879\n",
      "Epoch [33/100], Train Loss: 0.6784, Train Acc: 76.72, Val Loss: 0.6879, Val Acc: 75.87\n"
     ]
    },
    {
     "metadata": {
      "tags": null
     },
     "name": "stderr",
     "output_type": "stream",
     "text": [
      "100%|██████████| 625/625 [01:05<00:00,  9.54it/s]\n"
     ]
    },
    {
     "metadata": {
      "tags": null
     },
     "name": "stdout",
     "output_type": "stream",
     "text": [
      "Epoch [34/100], Train Loss: 0.6698, Train Acc: 76.96, Val Loss: 0.7034, Val Acc: 75.56\n"
     ]
    },
    {
     "metadata": {
      "tags": null
     },
     "name": "stderr",
     "output_type": "stream",
     "text": [
      "100%|██████████| 625/625 [01:05<00:00,  9.54it/s]\n"
     ]
    },
    {
     "name": "stdout",
     "output_type": "stream",
     "text": [
      "Epoch [35/100], Train Loss: 0.6697, Train Acc: 76.97, Val Loss: 0.7344, Val Acc: 74.57\n"
     ]
    },
    {
     "name": "stderr",
     "output_type": "stream",
     "text": [
      "100%|██████████| 625/625 [01:06<00:00,  9.35it/s]\n"
     ]
    },
    {
     "name": "stdout",
     "output_type": "stream",
     "text": [
      "Epoch [36/100], Train Loss: 0.6641, Train Acc: 77.17, Val Loss: 0.7139, Val Acc: 75.39\n"
     ]
    },
    {
     "name": "stderr",
     "output_type": "stream",
     "text": [
      "100%|██████████| 625/625 [01:08<00:00,  9.18it/s]\n"
     ]
    },
    {
     "name": "stdout",
     "output_type": "stream",
     "text": [
      "Epoch [37/100], Train Loss: 0.6667, Train Acc: 77.14, Val Loss: 0.7079, Val Acc: 75.56\n"
     ]
    },
    {
     "name": "stderr",
     "output_type": "stream",
     "text": [
      "100%|██████████| 625/625 [01:07<00:00,  9.32it/s]\n"
     ]
    },
    {
     "name": "stdout",
     "output_type": "stream",
     "text": [
      "Early stopping at epoch 38 with best validation loss 0.6879\n"
     ]
    },
    {
     "data": {
      "image/png": "[encoded data removed]",
      "text/plain": [
       "<Figure size 1200x500 with 2 Axes>"
      ]
     },
     "metadata": {},
     "output_type": "display_data"
    }
   ],
   "source": [
    "# Main training loop over optimizers and weight decay options, use learning rate scheduler to change learning rate in training\n",
    "for optimizer_name in optimizers:\n",
    "    for wd in weight_decay_options:\n",
    "        print(f\"\\nTraining model with {optimizer_name} optimizer and weight decay {wd}\")\n",
    "        model = models.resnet18(num_classes=10)\n",
    "        # Define optimizer\n",
    "        if optimizer_name == 'SGD':\n",
    "            optimizer = optim.SGD(model.parameters(), lr=learning_rate, momentum=0.9, weight_decay=wd)\n",
    "            scheduler = optim.lr_scheduler.StepLR(optimizer, step_size=20, gamma=0.9)\n",
    "        elif optimizer_name == 'Adam':\n",
    "            optimizer = optim.Adam(model.parameters(), lr=0.001, weight_decay=wd)\n",
    "            #scheduler = optim.lr_scheduler.StepLR(optimizer, step_size=5, gamma=0.9)\n",
    "            scheduler = optim.lr_scheduler.ReduceLROnPlateau(optimizer, mode='min', factor=0.7, patience=3, verbose=True)\n",
    "\n",
    "        # Loss function\n",
    "        criterion = nn.CrossEntropyLoss()\n",
    "\n",
    "        # Train and validate the model\n",
    "        train_model(model, optimizer, criterion, train_loader, val_loader, num_epochs, scheduler)\n",
    "\n"
   ]
  },
  {
   "cell_type": "code",
   "execution_count": 10,
   "id": "9fd0672d-a8bd-4cfb-bfdb-944fd06bedca",
   "metadata": {
    "colab": {
     "base_uri": "https://localhost:8080/"
    },
    "executionInfo": {
     "elapsed": 6017,
     "status": "ok",
     "timestamp": 1730928697118,
     "user": {
      "displayName": "George Yang",
      "userId": "04337997738831410077"
     },
     "user_tz": -630
    },
    "id": "9fd0672d-a8bd-4cfb-bfdb-944fd06bedca",
    "outputId": "d37d6138-c54e-49ba-aeb2-be9faff43eb6"
   },
   "outputs": [
    {
     "name": "stderr",
     "output_type": "stream",
     "text": [
      "<ipython-input-10-c3279aa1cf75>:4: FutureWarning: You are using `torch.load` with `weights_only=False` (the current default value), which uses the default pickle module implicitly. It is possible to construct malicious pickle data which will execute arbitrary code during unpickling (See https://github.com/pytorch/pytorch/blob/main/SECURITY.md#untrusted-models for more details). In a future release, the default value for `weights_only` will be flipped to `True`. This limits the functions that could be executed during unpickling. Arbitrary objects will no longer be allowed to be loaded via this mode unless they are explicitly allowlisted by the user via `torch.serialization.add_safe_globals`. We recommend you start setting `weights_only=True` for any use case where you don't have full control of the loaded file. Please open an issue on GitHub for any issues related to this experimental feature.\n",
      "  model.load_state_dict(torch.load(model_path))\n"
     ]
    },
    {
     "name": "stdout",
     "output_type": "stream",
     "text": [
      "Test Accuracy: 80.81%\n"
     ]
    }
   ],
   "source": [
    "# Testing model\n",
    "def test_model(model_path, test_loader):\n",
    "    model = models.resnet18(num_classes=10)\n",
    "    model.load_state_dict(torch.load(model_path))\n",
    "    model.to(device)\n",
    "    model.eval()\n",
    "\n",
    "    correct = 0\n",
    "    total = 0\n",
    "    with torch.no_grad():\n",
    "        for data, targets in test_loader:\n",
    "            data, targets = data.to(device), targets.to(device)\n",
    "            outputs = model(data)\n",
    "            _, predicted = outputs.max(1)\n",
    "            total += targets.size(0)\n",
    "            correct += predicted.eq(targets).sum().item()\n",
    "\n",
    "    print(f'Test Accuracy: {100. * correct / total:.2f}%')\n",
    "\n",
    "test_model('/content/drive/MyDrive/DLassignment2/models/resnet18_best.pth', test_loader)"
   ]
  },
  {
   "cell_type": "code",
   "execution_count": null,
   "id": "pAylsjpA3hdn",
   "metadata": {
    "id": "pAylsjpA3hdn"
   },
   "outputs": [],
   "source": []
  },
  {
   "cell_type": "code",
   "execution_count": null,
   "id": "LLrLxSPL3hSj",
   "metadata": {
    "id": "LLrLxSPL3hSj"
   },
   "outputs": [],
   "source": []
  },
  {
   "cell_type": "code",
   "execution_count": null,
   "id": "v4u9DV2y3hJP",
   "metadata": {
    "id": "v4u9DV2y3hJP"
   },
   "outputs": [],
   "source": []
  },
  {
   "cell_type": "code",
   "execution_count": null,
   "id": "ReVHAyQ03g9_",
   "metadata": {
    "id": "ReVHAyQ03g9_"
   },
   "outputs": [],
   "source": []
  },
  {
   "cell_type": "code",
   "execution_count": null,
   "id": "50752205-b6a2-4794-b563-3acbf41440c9",
   "metadata": {
    "id": "50752205-b6a2-4794-b563-3acbf41440c9"
   },
   "outputs": [],
   "source": [
    "train_losses = [\n",
    "   ]\n",
    "\n",
    "val_losses = []\n",
    "\n",
    "train_accuracies = []\n",
    "\n",
    "val_accuracies = [\n",
    "]\n"
   ]
  },
  {
   "cell_type": "code",
   "execution_count": null,
   "id": "C0Qys658MX9G",
   "metadata": {
    "colab": {
     "base_uri": "https://localhost:8080/"
    },
    "executionInfo": {
     "elapsed": 397,
     "status": "ok",
     "timestamp": 1730884383002,
     "user": {
      "displayName": "George Yang",
      "userId": "04337997738831410077"
     },
     "user_tz": -630
    },
    "id": "C0Qys658MX9G",
    "outputId": "b191de22-f342-44f6-a2e3-ee79c9ba7bb6"
   },
   "outputs": [
    {
     "data": {
      "text/plain": [
       "50"
      ]
     },
     "execution_count": 21,
     "metadata": {},
     "output_type": "execute_result"
    }
   ],
   "source": [
    "len(train_losses)"
   ]
  },
  {
   "cell_type": "code",
   "execution_count": null,
   "id": "9783c43e-7f10-4448-9c66-6385351ab76d",
   "metadata": {
    "colab": {
     "base_uri": "https://localhost:8080/",
     "height": 487
    },
    "executionInfo": {
     "elapsed": 498,
     "status": "ok",
     "timestamp": 1730900403279,
     "user": {
      "displayName": "George Yang",
      "userId": "04337997738831410077"
     },
     "user_tz": -630
    },
    "id": "9783c43e-7f10-4448-9c66-6385351ab76d",
    "outputId": "9fd66698-781e-46b5-f144-841333445ac4"
   },
   "outputs": [
    {
     "data": {
      "image/png": "[encoded data removed]",
      "text/plain": [
       "<Figure size 1200x500 with 2 Axes>"
      ]
     },
     "metadata": {},
     "output_type": "display_data"
    }
   ],
   "source": [
    "plot_metrics(train_losses, val_losses, train_accuracies, val_accuracies)"
   ]
  }
 ],
 "metadata": {
  "accelerator": "GPU",
  "colab": {
   "gpuType": "T4",
   "provenance": []
  },
  "kernelspec": {
   "display_name": "Python 3 (ipykernel)",
   "language": "python",
   "name": "python3"
  },
  "language_info": {
   "codemirror_mode": {
    "name": "ipython",
    "version": 3
   },
   "file_extension": ".py",
   "mimetype": "text/x-python",
   "name": "python",
   "nbconvert_exporter": "python",
   "pygments_lexer": "ipython3",
   "version": "3.11.9"
  }
 },
 "nbformat": 4,
 "nbformat_minor": 5
}
